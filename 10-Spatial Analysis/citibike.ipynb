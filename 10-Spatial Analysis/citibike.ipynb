{
 "cells": [
  {
   "cell_type": "markdown",
   "metadata": {},
   "source": [
    "# Example: CitiBike data\n",
    "\n",
    "Adapted from Kelsey Jordahl\n",
    "https://gist.github.com/kjordahl/5957573"
   ]
  },
  {
   "cell_type": "code",
   "execution_count": 1,
   "metadata": {
    "collapsed": true
   },
   "outputs": [],
   "source": [
    "import requests  \n",
    "import json\n",
    "from pyproj import Proj\n",
    "from shapely.geometry import Point\n",
    "import geopandas as gp"
   ]
  },
  {
   "cell_type": "markdown",
   "metadata": {},
   "source": [
    "NYC borough boundaries downloaded from [Bytes of the Big Apple](http://www.nyc.gov/html/dcp/download/bytes/nybb_13a.zip)"
   ]
  },
  {
   "cell_type": "code",
   "execution_count": 2,
   "metadata": {
    "collapsed": true
   },
   "outputs": [],
   "source": [
    "boros = gp.GeoDataFrame.from_file('nybb_15b/nybb.shp')"
   ]
  },
  {
   "cell_type": "markdown",
   "metadata": {},
   "source": [
    "Load real time bike station data from [CitiBike](http://citibikenyc.com) json API:"
   ]
  },
  {
   "cell_type": "code",
   "execution_count": 3,
   "metadata": {
    "collapsed": true
   },
   "outputs": [],
   "source": [
    "# get the bike data and convert it to a ditcionary\n",
    "endpoint_url = 'http://citibikenyc.com/stations/json'\n",
    "response = requests.get(endpoint_url)\n",
    "data = json.loads(response.text)\n"
   ]
  },
  {
   "cell_type": "code",
   "execution_count": 4,
   "metadata": {},
   "outputs": [
    {
     "data": {
      "text/html": [
       "<div>\n",
       "<style>\n",
       "    .dataframe thead tr:only-child th {\n",
       "        text-align: right;\n",
       "    }\n",
       "\n",
       "    .dataframe thead th {\n",
       "        text-align: left;\n",
       "    }\n",
       "\n",
       "    .dataframe tbody tr th {\n",
       "        vertical-align: top;\n",
       "    }\n",
       "</style>\n",
       "<table border=\"1\" class=\"dataframe\">\n",
       "  <thead>\n",
       "    <tr style=\"text-align: right;\">\n",
       "      <th></th>\n",
       "      <th>altitude</th>\n",
       "      <th>availableBikes</th>\n",
       "      <th>availableDocks</th>\n",
       "      <th>city</th>\n",
       "      <th>id</th>\n",
       "      <th>landMark</th>\n",
       "      <th>lastCommunicationTime</th>\n",
       "      <th>latitude</th>\n",
       "      <th>location</th>\n",
       "      <th>longitude</th>\n",
       "      <th>postalCode</th>\n",
       "      <th>stAddress1</th>\n",
       "      <th>stAddress2</th>\n",
       "      <th>stationName</th>\n",
       "      <th>statusKey</th>\n",
       "      <th>statusValue</th>\n",
       "      <th>testStation</th>\n",
       "      <th>totalDocks</th>\n",
       "    </tr>\n",
       "  </thead>\n",
       "  <tbody>\n",
       "    <tr>\n",
       "      <th>0</th>\n",
       "      <td></td>\n",
       "      <td>1</td>\n",
       "      <td>36</td>\n",
       "      <td></td>\n",
       "      <td>72</td>\n",
       "      <td></td>\n",
       "      <td>2018-02-22 12:42:42 PM</td>\n",
       "      <td>40.767272</td>\n",
       "      <td></td>\n",
       "      <td>-73.993929</td>\n",
       "      <td></td>\n",
       "      <td>W 52 St &amp; 11 Ave</td>\n",
       "      <td></td>\n",
       "      <td>W 52 St &amp; 11 Ave</td>\n",
       "      <td>1</td>\n",
       "      <td>In Service</td>\n",
       "      <td>False</td>\n",
       "      <td>39</td>\n",
       "    </tr>\n",
       "    <tr>\n",
       "      <th>1</th>\n",
       "      <td></td>\n",
       "      <td>15</td>\n",
       "      <td>17</td>\n",
       "      <td></td>\n",
       "      <td>79</td>\n",
       "      <td></td>\n",
       "      <td>2018-02-22 12:41:52 PM</td>\n",
       "      <td>40.719116</td>\n",
       "      <td></td>\n",
       "      <td>-74.006667</td>\n",
       "      <td></td>\n",
       "      <td>Franklin St &amp; W Broadway</td>\n",
       "      <td></td>\n",
       "      <td>Franklin St &amp; W Broadway</td>\n",
       "      <td>1</td>\n",
       "      <td>In Service</td>\n",
       "      <td>False</td>\n",
       "      <td>33</td>\n",
       "    </tr>\n",
       "    <tr>\n",
       "      <th>2</th>\n",
       "      <td></td>\n",
       "      <td>20</td>\n",
       "      <td>7</td>\n",
       "      <td></td>\n",
       "      <td>82</td>\n",
       "      <td></td>\n",
       "      <td>2018-02-22 12:45:06 PM</td>\n",
       "      <td>40.711174</td>\n",
       "      <td></td>\n",
       "      <td>-74.000165</td>\n",
       "      <td></td>\n",
       "      <td>St James Pl &amp; Pearl St</td>\n",
       "      <td></td>\n",
       "      <td>St James Pl &amp; Pearl St</td>\n",
       "      <td>1</td>\n",
       "      <td>In Service</td>\n",
       "      <td>False</td>\n",
       "      <td>27</td>\n",
       "    </tr>\n",
       "    <tr>\n",
       "      <th>3</th>\n",
       "      <td></td>\n",
       "      <td>30</td>\n",
       "      <td>30</td>\n",
       "      <td></td>\n",
       "      <td>83</td>\n",
       "      <td></td>\n",
       "      <td>2018-02-22 12:42:43 PM</td>\n",
       "      <td>40.683826</td>\n",
       "      <td></td>\n",
       "      <td>-73.976323</td>\n",
       "      <td></td>\n",
       "      <td>Atlantic Ave &amp; Fort Greene Pl</td>\n",
       "      <td></td>\n",
       "      <td>Atlantic Ave &amp; Fort Greene Pl</td>\n",
       "      <td>1</td>\n",
       "      <td>In Service</td>\n",
       "      <td>False</td>\n",
       "      <td>62</td>\n",
       "    </tr>\n",
       "    <tr>\n",
       "      <th>4</th>\n",
       "      <td></td>\n",
       "      <td>9</td>\n",
       "      <td>10</td>\n",
       "      <td></td>\n",
       "      <td>119</td>\n",
       "      <td></td>\n",
       "      <td>2018-02-22 12:43:19 PM</td>\n",
       "      <td>40.696089</td>\n",
       "      <td></td>\n",
       "      <td>-73.978034</td>\n",
       "      <td></td>\n",
       "      <td>Park Ave &amp; St Edwards St</td>\n",
       "      <td></td>\n",
       "      <td>Park Ave &amp; St Edwards St</td>\n",
       "      <td>1</td>\n",
       "      <td>In Service</td>\n",
       "      <td>False</td>\n",
       "      <td>19</td>\n",
       "    </tr>\n",
       "  </tbody>\n",
       "</table>\n",
       "</div>"
      ],
      "text/plain": [
       "  altitude  availableBikes  availableDocks city   id landMark  \\\n",
       "0                        1              36        72            \n",
       "1                       15              17        79            \n",
       "2                       20               7        82            \n",
       "3                       30              30        83            \n",
       "4                        9              10       119            \n",
       "\n",
       "    lastCommunicationTime   latitude location  longitude postalCode  \\\n",
       "0  2018-02-22 12:42:42 PM  40.767272          -73.993929              \n",
       "1  2018-02-22 12:41:52 PM  40.719116          -74.006667              \n",
       "2  2018-02-22 12:45:06 PM  40.711174          -74.000165              \n",
       "3  2018-02-22 12:42:43 PM  40.683826          -73.976323              \n",
       "4  2018-02-22 12:43:19 PM  40.696089          -73.978034              \n",
       "\n",
       "                      stAddress1 stAddress2                    stationName  \\\n",
       "0               W 52 St & 11 Ave                          W 52 St & 11 Ave   \n",
       "1       Franklin St & W Broadway                  Franklin St & W Broadway   \n",
       "2         St James Pl & Pearl St                    St James Pl & Pearl St   \n",
       "3  Atlantic Ave & Fort Greene Pl             Atlantic Ave & Fort Greene Pl   \n",
       "4       Park Ave & St Edwards St                  Park Ave & St Edwards St   \n",
       "\n",
       "   statusKey statusValue  testStation  totalDocks  \n",
       "0          1  In Service        False          39  \n",
       "1          1  In Service        False          33  \n",
       "2          1  In Service        False          27  \n",
       "3          1  In Service        False          62  \n",
       "4          1  In Service        False          19  "
      ]
     },
     "execution_count": 4,
     "metadata": {},
     "output_type": "execute_result"
    }
   ],
   "source": [
    "# convert the relevant part to a geodataframe\n",
    "df = gp.GeoDataFrame(data['stationBeanList'])\n",
    "df.head()"
   ]
  },
  {
   "cell_type": "code",
   "execution_count": 5,
   "metadata": {},
   "outputs": [
    {
     "data": {
      "text/plain": [
       "813"
      ]
     },
     "execution_count": 5,
     "metadata": {},
     "output_type": "execute_result"
    }
   ],
   "source": [
    "# there is one row for each bike station.  How many stations are there? \n",
    "len(df)"
   ]
  },
  {
   "cell_type": "code",
   "execution_count": 6,
   "metadata": {},
   "outputs": [
    {
     "data": {
      "text/plain": [
       "array([-74.0969366 ,  40.65539977, -73.9077436 ,  40.81439444])"
      ]
     },
     "execution_count": 6,
     "metadata": {},
     "output_type": "execute_result"
    }
   ],
   "source": [
    "# in the file above, there are lon-lats, but no geometry field\n",
    "# we need to set that up\n",
    "\n",
    "s = gp.GeoSeries([Point(x, y) for x, y in zip(df['longitude'], df['latitude'])])\n",
    "df['geometry'] = s\n",
    "df.crs = {'init': 'epsg:4326', 'no_defs': True}\n",
    "df.geometry.total_bounds"
   ]
  },
  {
   "cell_type": "code",
   "execution_count": 7,
   "metadata": {},
   "outputs": [
    {
     "data": {
      "text/plain": [
       "array([  957370.14732176,   178056.37414829,  1009803.53178432,\n",
       "         235986.42166716])"
      ]
     },
     "execution_count": 7,
     "metadata": {},
     "output_type": "execute_result"
    }
   ],
   "source": [
    "# make sure they are on the same CRS.  \n",
    "# checking the bounds is a nice way of seeing this\n",
    "df.to_crs(boros.crs, inplace=True)\n",
    "df.geometry.total_bounds"
   ]
  },
  {
   "cell_type": "code",
   "execution_count": 8,
   "metadata": {},
   "outputs": [
    {
     "data": {
      "text/html": [
       "<div>\n",
       "<style>\n",
       "    .dataframe thead tr:only-child th {\n",
       "        text-align: right;\n",
       "    }\n",
       "\n",
       "    .dataframe thead th {\n",
       "        text-align: left;\n",
       "    }\n",
       "\n",
       "    .dataframe tbody tr th {\n",
       "        vertical-align: top;\n",
       "    }\n",
       "</style>\n",
       "<table border=\"1\" class=\"dataframe\">\n",
       "  <thead>\n",
       "    <tr style=\"text-align: right;\">\n",
       "      <th></th>\n",
       "      <th>BoroCode</th>\n",
       "      <th>BoroName</th>\n",
       "      <th>Shape_Leng</th>\n",
       "      <th>Shape_Area</th>\n",
       "      <th>geometry</th>\n",
       "    </tr>\n",
       "  </thead>\n",
       "  <tbody>\n",
       "    <tr>\n",
       "      <th>0</th>\n",
       "      <td>5</td>\n",
       "      <td>Staten Island</td>\n",
       "      <td>330466.075042</td>\n",
       "      <td>1.623827e+09</td>\n",
       "      <td>(POLYGON ((970217.0223999023 145643.3322143555...</td>\n",
       "    </tr>\n",
       "    <tr>\n",
       "      <th>1</th>\n",
       "      <td>3</td>\n",
       "      <td>Brooklyn</td>\n",
       "      <td>741185.900596</td>\n",
       "      <td>1.937597e+09</td>\n",
       "      <td>(POLYGON ((1021176.479003906 151374.7969970703...</td>\n",
       "    </tr>\n",
       "    <tr>\n",
       "      <th>2</th>\n",
       "      <td>4</td>\n",
       "      <td>Queens</td>\n",
       "      <td>897040.298576</td>\n",
       "      <td>3.045168e+09</td>\n",
       "      <td>(POLYGON ((1029606.076599121 156073.8142089844...</td>\n",
       "    </tr>\n",
       "    <tr>\n",
       "      <th>3</th>\n",
       "      <td>1</td>\n",
       "      <td>Manhattan</td>\n",
       "      <td>358408.460709</td>\n",
       "      <td>6.364467e+08</td>\n",
       "      <td>(POLYGON ((981219.0557861328 188655.3157958984...</td>\n",
       "    </tr>\n",
       "    <tr>\n",
       "      <th>4</th>\n",
       "      <td>2</td>\n",
       "      <td>Bronx</td>\n",
       "      <td>464400.198868</td>\n",
       "      <td>1.186973e+09</td>\n",
       "      <td>(POLYGON ((1012821.805786133 229228.2645874023...</td>\n",
       "    </tr>\n",
       "  </tbody>\n",
       "</table>\n",
       "</div>"
      ],
      "text/plain": [
       "   BoroCode       BoroName     Shape_Leng    Shape_Area  \\\n",
       "0         5  Staten Island  330466.075042  1.623827e+09   \n",
       "1         3       Brooklyn  741185.900596  1.937597e+09   \n",
       "2         4         Queens  897040.298576  3.045168e+09   \n",
       "3         1      Manhattan  358408.460709  6.364467e+08   \n",
       "4         2          Bronx  464400.198868  1.186973e+09   \n",
       "\n",
       "                                            geometry  \n",
       "0  (POLYGON ((970217.0223999023 145643.3322143555...  \n",
       "1  (POLYGON ((1021176.479003906 151374.7969970703...  \n",
       "2  (POLYGON ((1029606.076599121 156073.8142089844...  \n",
       "3  (POLYGON ((981219.0557861328 188655.3157958984...  \n",
       "4  (POLYGON ((1012821.805786133 229228.2645874023...  "
      ]
     },
     "execution_count": 8,
     "metadata": {},
     "output_type": "execute_result"
    }
   ],
   "source": [
    "boros"
   ]
  },
  {
   "cell_type": "code",
   "execution_count": 9,
   "metadata": {},
   "outputs": [
    {
     "name": "stdout",
     "output_type": "stream",
     "text": [
      "414 stations in Manhattan\n"
     ]
    }
   ],
   "source": [
    "# the geometry objects can do lots of cool stuff.  For example: \n",
    "\n",
    "manhattan = boros.geometry[3]\n",
    "in_mn = df.geometry.within(manhattan)\n",
    "print(sum(in_mn), 'stations in Manhattan')"
   ]
  },
  {
   "cell_type": "markdown",
   "metadata": {},
   "source": [
    "# Your turn\n",
    "\n",
    "You can read about the range of operations available in geopandas here: \n",
    "    \n",
    "http://geopandas.org/index.html\n",
    "\n",
    "Your assignment is to: \n",
    "\n",
    "1. Calculate how many stations are in each borough\n",
    "2. Calculate how many bikes are currently available in each borough\n",
    "3. Read about and try at least two new spatial or geometric operations (beyond what I've covered here). "
   ]
  },
  {
   "cell_type": "code",
   "execution_count": 10,
   "metadata": {},
   "outputs": [
    {
     "name": "stdout",
     "output_type": "stream",
     "text": [
      "414 stations in Manhattan\n"
     ]
    }
   ],
   "source": [
    "manhattan = boros.geometry[3]\n",
    "in_mn = df.geometry.within(manhattan)\n",
    "print(sum(in_mn), 'stations in Manhattan')"
   ]
  },
  {
   "cell_type": "code",
   "execution_count": 11,
   "metadata": {},
   "outputs": [
    {
     "name": "stdout",
     "output_type": "stream",
     "text": [
      "0 stations in bronx\n"
     ]
    }
   ],
   "source": [
    "bronx = boros.geometry[4]\n",
    "in_mn = df.geometry.within(bronx)\n",
    "print(sum(in_mn), 'stations in bronx')"
   ]
  },
  {
   "cell_type": "code",
   "execution_count": 12,
   "metadata": {},
   "outputs": [
    {
     "name": "stdout",
     "output_type": "stream",
     "text": [
      "81 stations in queens\n"
     ]
    }
   ],
   "source": [
    "queens = boros.geometry[2]\n",
    "in_mn = df.geometry.within(queens)\n",
    "print(sum(in_mn), 'stations in queens')"
   ]
  },
  {
   "cell_type": "code",
   "execution_count": 13,
   "metadata": {},
   "outputs": [
    {
     "name": "stdout",
     "output_type": "stream",
     "text": [
      "266 stations in brooklyn\n"
     ]
    }
   ],
   "source": [
    "brooklyn = boros.geometry[1]\n",
    "in_mn = df.geometry.within(brooklyn)\n",
    "print(sum(in_mn), 'stations in brooklyn')"
   ]
  },
  {
   "cell_type": "code",
   "execution_count": 14,
   "metadata": {},
   "outputs": [
    {
     "name": "stdout",
     "output_type": "stream",
     "text": [
      "0 stations in staten island\n"
     ]
    }
   ],
   "source": [
    "staten_island = boros.geometry[0]\n",
    "in_mn = df.geometry.within(staten_island)\n",
    "print(sum(in_mn), 'stations in staten island')"
   ]
  },
  {
   "cell_type": "code",
   "execution_count": 15,
   "metadata": {},
   "outputs": [
    {
     "name": "stdout",
     "output_type": "stream",
     "text": [
      "0\n"
     ]
    }
   ],
   "source": [
    "staten_island = boros.geometry[0]\n",
    "in_mn = df.geometry.within(staten_island)\n",
    "print(sum(df['availableBikes'][in_mn]))"
   ]
  },
  {
   "cell_type": "code",
   "execution_count": 16,
   "metadata": {},
   "outputs": [
    {
     "name": "stdout",
     "output_type": "stream",
     "text": [
      "2373\n"
     ]
    }
   ],
   "source": [
    "brooklyn = boros.geometry[1]\n",
    "in_mn = df.geometry.within(brooklyn)\n",
    "print(sum(df['availableBikes'][in_mn]))"
   ]
  },
  {
   "cell_type": "code",
   "execution_count": null,
   "metadata": {
    "collapsed": true
   },
   "outputs": [],
   "source": [
    "brooklyn = boros.geometry[1]\n",
    "in_mn = df.geometry.within(brooklyn)\n",
    "print(sum(df['availableBikes'][in_mn]))"
   ]
  }
 ],
 "metadata": {
  "anaconda-cloud": {},
  "kernelspec": {
   "display_name": "Python 3",
   "language": "python",
   "name": "python3"
  },
  "language_info": {
   "codemirror_mode": {
    "name": "ipython",
    "version": 3
   },
   "file_extension": ".py",
   "mimetype": "text/x-python",
   "name": "python",
   "nbconvert_exporter": "python",
   "pygments_lexer": "ipython3",
   "version": "3.6.3"
  }
 },
 "nbformat": 4,
 "nbformat_minor": 1
}
