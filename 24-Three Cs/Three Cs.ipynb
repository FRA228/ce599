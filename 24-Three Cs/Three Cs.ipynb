{
 "cells": [
  {
   "cell_type": "markdown",
   "metadata": {},
   "source": [
    "# Correlation, Causality and multiCollinearity\n",
    "\n",
    "For a good explanation, see: \n",
    "\n",
    "https://www.otexts.org/fpp/5/7\n",
    "\n",
    "Let's stop and check that out."
   ]
  },
  {
   "cell_type": "markdown",
   "metadata": {
    "collapsed": true
   },
   "source": [
    "### Back to our BART data"
   ]
  },
  {
   "cell_type": "code",
   "execution_count": 1,
   "metadata": {},
   "outputs": [
    {
     "name": "stderr",
     "output_type": "stream",
     "text": [
      "C:\\ProgramData\\Anaconda3\\lib\\site-packages\\statsmodels\\compat\\pandas.py:56: FutureWarning: The pandas.core.datetools module is deprecated and will be removed in a future version. Please use the pandas.tseries module instead.\n",
      "  from pandas.core import datetools\n"
     ]
    }
   ],
   "source": [
    "%matplotlib inline\n",
    "\n",
    "import pandas as pd\n",
    "import seaborn as sns\n",
    "import numpy as np\n",
    "import statsmodels.api as sm\n",
    "import statsmodels.formula.api as smf\n"
   ]
  },
  {
   "cell_type": "code",
   "execution_count": 2,
   "metadata": {
    "scrolled": true
   },
   "outputs": [
    {
     "name": "stdout",
     "output_type": "stream",
     "text": [
      "<class 'pandas.core.frame.DataFrame'>\n",
      "DatetimeIndex: 177 entries, 2001-01-01 to 2015-09-01\n",
      "Data columns (total 22 columns):\n",
      "RIDERS                     177 non-null float64\n",
      "STATIONS                   177 non-null int64\n",
      "CASH_FARE_2010USD_BART     175 non-null float64\n",
      "AVG_FARE_2010USD_BART      175 non-null float64\n",
      "HH                         168 non-null float64\n",
      "HH_0VEH                    168 non-null float64\n",
      "POP                        168 non-null float64\n",
      "WORKERS                    168 non-null float64\n",
      "MEDIAN_HHINC_2010USD       168 non-null float64\n",
      "SERVMILES_E_BART           177 non-null float64\n",
      "TOTEMP                     171 non-null float64\n",
      "RETAIL_EMP                 171 non-null float64\n",
      "EDHEALTH_EMP               171 non-null float64\n",
      "LEISURE_EMP                171 non-null float64\n",
      "OTHER_EMP                  171 non-null float64\n",
      "FUEL_PRICE_2010USD         171 non-null float64\n",
      "FUEL_COST_2010USD          171 non-null float64\n",
      "TOLL_BB_PK_2010USD         171 non-null float64\n",
      "TOLL_BB_OP_2010USD         171 non-null float64\n",
      "TOLL_BB_CARPOOL_2010USD    171 non-null float64\n",
      "CASUAL_CARPOOL             177 non-null int64\n",
      "BART_STRIKE                177 non-null int64\n",
      "dtypes: float64(19), int64(3)\n",
      "memory usage: 31.8 KB\n"
     ]
    }
   ],
   "source": [
    "# This data has\n",
    "bart = pd.read_csv('data/BARTEstimationFile.csv', parse_dates=['MONTH'], index_col='MONTH')\n",
    "bart.info()"
   ]
  },
  {
   "cell_type": "code",
   "execution_count": 3,
   "metadata": {},
   "outputs": [
    {
     "data": {
      "text/plain": [
       "<matplotlib.axes._subplots.AxesSubplot at 0x18e9bd16e10>"
      ]
     },
     "execution_count": 3,
     "metadata": {},
     "output_type": "execute_result"
    },
    {
     "data": {
      "image/png": "[encoded data removed]",
      "text/plain": [
       "<matplotlib.figure.Figure at 0x18e9c31f0f0>"
      ]
     },
     "metadata": {},
     "output_type": "display_data"
    }
   ],
   "source": [
    "# drop missing values\n",
    "bart = bart.dropna()\n",
    "\n",
    "# calculate second difference\n",
    "diff = bart - bart.shift(12)\n",
    "diff2 = diff - diff.shift(1)\n",
    "diff2['RIDERS'].plot()"
   ]
  },
  {
   "cell_type": "code",
   "execution_count": 4,
   "metadata": {},
   "outputs": [
    {
     "name": "stdout",
     "output_type": "stream",
     "text": [
      "                            OLS Regression Results                            \n",
      "==============================================================================\n",
      "Dep. Variable:                 RIDERS   R-squared:                       0.837\n",
      "Model:                            OLS   Adj. R-squared:                  0.831\n",
      "Method:                 Least Squares   F-statistic:                     127.8\n",
      "Date:                Tue, 17 Apr 2018   Prob (F-statistic):           3.59e-56\n",
      "Time:                        12:44:08   Log-Likelihood:                -1591.1\n",
      "No. Observations:                 155   AIC:                             3194.\n",
      "Df Residuals:                     149   BIC:                             3212.\n",
      "Df Model:                           6                                         \n",
      "Covariance Type:            nonrobust                                         \n",
      "==========================================================================================\n",
      "                             coef    std err          t      P>|t|      [0.025      0.975]\n",
      "------------------------------------------------------------------------------------------\n",
      "SERVMILES_E_BART           0.4393      1.428      0.308      0.759      -2.382       3.261\n",
      "TOTEMP                     0.1187      0.057      2.073      0.040       0.006       0.232\n",
      "WORKERS                    0.2846      0.142      2.006      0.047       0.004       0.565\n",
      "CASH_FARE_2010USD_BART -1.596e+04   1.12e+04     -1.421      0.157   -3.81e+04    6228.685\n",
      "FUEL_COST_2010USD       4.839e+04   5.23e+04      0.925      0.356    -5.5e+04    1.52e+05\n",
      "BART_STRIKE            -6.902e+04   2516.131    -27.429      0.000    -7.4e+04    -6.4e+04\n",
      "==============================================================================\n",
      "Omnibus:                        1.986   Durbin-Watson:                   2.636\n",
      "Prob(Omnibus):                  0.370   Jarque-Bera (JB):                1.533\n",
      "Skew:                           0.019   Prob(JB):                        0.465\n",
      "Kurtosis:                       2.514   Cond. No.                     9.80e+05\n",
      "==============================================================================\n",
      "\n",
      "Warnings:\n",
      "[1] Standard Errors assume that the covariance matrix of the errors is correctly specified.\n",
      "[2] The condition number is large, 9.8e+05. This might indicate that there are\n",
      "strong multicollinearity or other numerical problems.\n"
     ]
    }
   ],
   "source": [
    "# start from the variables we think are important\n",
    "\n",
    "mod = smf.ols(formula='RIDERS ~ \\\n",
    "              SERVMILES_E_BART \\\n",
    "              + TOTEMP \\\n",
    "              + WORKERS \\\n",
    "              + CASH_FARE_2010USD_BART \\\n",
    "              + FUEL_COST_2010USD \\\n",
    "              + BART_STRIKE \\\n",
    "              - 1', \n",
    "              data=diff2[13:])\n",
    "res = mod.fit()\n",
    "print(res.summary())"
   ]
  },
  {
   "cell_type": "markdown",
   "metadata": {},
   "source": [
    "It seems like we might have multicollinearity issues.  There are some statistical tests for this, or we can examine the covariance matrix.  For now, let's see if we can figure out what's going on a bit more intuitively.  "
   ]
  },
  {
   "cell_type": "code",
   "execution_count": null,
   "metadata": {},
   "outputs": [],
   "source": [
    "# a simple thing we can do is look at the data\n",
    "\n",
    "fields = ['RIDERS', 'SERVMILES_E_BART', 'TOTEMP', 'WORKERS', 'CASH_FARE_2010USD_BART', 'FUEL_COST_2010USD', 'BART_STRIKE']\n",
    "\n",
    "sns.pairplot(diff2[fields][13:])\n"
   ]
  },
  {
   "cell_type": "code",
   "execution_count": null,
   "metadata": {},
   "outputs": [],
   "source": [
    "fields = ['RIDERS', 'SERVMILES_E_BART', 'TOTEMP', 'WORKERS', 'CASH_FARE_2010USD_BART', 'FUEL_COST_2010USD', 'BART_STRIKE']\n",
    "\n",
    "bart[fields][13:].plot(subplots=True)"
   ]
  },
  {
   "cell_type": "code",
   "execution_count": null,
   "metadata": {},
   "outputs": [],
   "source": [
    "# workers and totemp seem to move together.  What if we drop one or the other? \n",
    "\n",
    "mod = smf.ols(formula='RIDERS ~ \\\n",
    "              SERVMILES_E_BART \\\n",
    "              + TOTEMP \\\n",
    "              + CASH_FARE_2010USD_BART \\\n",
    "              + FUEL_COST_2010USD \\\n",
    "              + BART_STRIKE \\\n",
    "              - 1', \n",
    "              data=diff2[13:])\n",
    "res = mod.fit()\n",
    "print(res.summary())"
   ]
  },
  {
   "cell_type": "code",
   "execution_count": null,
   "metadata": {},
   "outputs": [],
   "source": [
    "# workers and totemp seem to move together.  What if we drop one or the other? \n",
    "\n",
    "mod = smf.ols(formula='RIDERS ~ \\\n",
    "              SERVMILES_E_BART \\\n",
    "              + WORKERS \\\n",
    "              + CASH_FARE_2010USD_BART \\\n",
    "              + FUEL_COST_2010USD \\\n",
    "              + BART_STRIKE \\\n",
    "              - 1', \n",
    "              data=diff2[13:])\n",
    "res = mod.fit()\n",
    "print(res.summary())"
   ]
  },
  {
   "cell_type": "markdown",
   "metadata": {},
   "source": [
    "Notice how the coefficients change.  One thing we can try is to specify a different variable that gets at a similar effect, but might be less collinear. "
   ]
  },
  {
   "cell_type": "code",
   "execution_count": null,
   "metadata": {},
   "outputs": [],
   "source": [
    "# what if we substitute population for workers?\n",
    "\n",
    "mod = smf.ols(formula='RIDERS ~ \\\n",
    "              SERVMILES_E_BART \\\n",
    "              + TOTEMP \\\n",
    "              + POP \\\n",
    "              + CASH_FARE_2010USD_BART \\\n",
    "              + FUEL_COST_2010USD \\\n",
    "              + BART_STRIKE \\\n",
    "              - 1', \n",
    "              data=diff2[13:])\n",
    "res = mod.fit()\n",
    "print(res.summary())"
   ]
  },
  {
   "cell_type": "code",
   "execution_count": null,
   "metadata": {},
   "outputs": [],
   "source": [
    "# what if now drop the insignificant terms? \n",
    "\n",
    "mod = smf.ols(formula='RIDERS ~ \\\n",
    "              + TOTEMP \\\n",
    "              + BART_STRIKE \\\n",
    "              - 1', \n",
    "              data=diff2[13:])\n",
    "res = mod.fit()\n",
    "print(res.summary())"
   ]
  },
  {
   "cell_type": "markdown",
   "metadata": {},
   "source": [
    "The R-squared is almost as good, but we can't predict what will happen if we change one of the other variables.  Sometimes we want to leave in an insignificant variable for theoretical or policy-sensitive reasons. "
   ]
  },
  {
   "cell_type": "code",
   "execution_count": null,
   "metadata": {},
   "outputs": [],
   "source": [
    "# And what if we drop the BART_STRIKE variable\n",
    "\n",
    "mod = smf.ols(formula='RIDERS ~ \\\n",
    "              + TOTEMP \\\n",
    "              - 1', \n",
    "              data=diff2[13:])\n",
    "res = mod.fit()\n",
    "print(res.summary())"
   ]
  },
  {
   "cell_type": "markdown",
   "metadata": {},
   "source": [
    "Wow, that's a lot different!  In this case, we've run into 'ommitted variable bias', where our coefficients are biased (and our model is lousy) because we're missing something important.  So what do we do?  "
   ]
  },
  {
   "cell_type": "markdown",
   "metadata": {},
   "source": [
    "### Recommendations\n",
    "\n",
    "Our friends at Northwestern (my alma mater!) have some good recommendations for how to \n",
    "proceed with these issues. \n",
    "\n",
    "Model Specification: Choosing the Right Variables for the Right Hand Side\n",
    "\n",
    "https://www.kellogg.northwestern.edu/faculty/dranove/htm/dranove/coursepages/Mgmt%20469/choosing%20variables.pdf\n",
    "\n",
    "They suggest: \n",
    "\n",
    "1) Always begin with a “core” set of predictors that have theoretical relevance, as well as any predictors whose effects you are specifically interested in. You may estimate a “quick and dirty” OLS model at this time. \n",
    "\n",
    "2) Finalize model specification issues (e.g., log vs. linear – to be discussed in a later note) \n",
    "\n",
    "3) Add additional predictors that you think might be relevant. You can add them one at a time or one “category” at a time (see next section). Check for the robustness of your initial findings. \n",
    "\n",
    "4) When adding predictors, you should keep all the original predictors in the model, even if they were not significant. Remember, omitted variable bias can cause significant predictors to appear to be insignificant. By adding more variables, your key predictors may become significant. \n",
    "\n",
    "5) At this point, you should know your robust findings. That is the main goal of your research. \n",
    "\n",
    "6) If you insist on producing a “final model”, then you should remove those additional predictors that were not remotely significant.\n",
    "\n",
    "\n",
    "7) You can also remove core predictors if they remain insignificant and you need degrees of freedom. If you are not taxed for degrees of freedom, you may want to keep your core variables, if only to paint the entire picture for your audience."
   ]
  },
  {
   "cell_type": "markdown",
   "metadata": {},
   "source": [
    "### Homework\n",
    "\n",
    "1. Read the model specification document referenced above. \\\n",
    "2. Given what you have learned today, develop a new BART ridership model.  Make that model an ARMA model with independent regressors.  Specify the regressors in a logical way, and make sure your data are stationary before you begin.  Justify your preferred model. "
   ]
  },
  {
   "cell_type": "code",
   "execution_count": null,
   "metadata": {
    "collapsed": true
   },
   "outputs": [],
   "source": []
  }
 ],
 "metadata": {
  "anaconda-cloud": {},
  "kernelspec": {
   "display_name": "Python 3",
   "language": "python",
   "name": "python3"
  },
  "language_info": {
   "codemirror_mode": {
    "name": "ipython",
    "version": 3
   },
   "file_extension": ".py",
   "mimetype": "text/x-python",
   "name": "python",
   "nbconvert_exporter": "python",
   "pygments_lexer": "ipython3",
   "version": "3.6.3"
  }
 },
 "nbformat": 4,
 "nbformat_minor": 1
}
