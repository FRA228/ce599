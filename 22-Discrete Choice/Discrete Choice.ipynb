{
 "cells": [
  {
   "cell_type": "markdown",
   "metadata": {
    "collapsed": true
   },
   "source": [
    "# Discrete Choice Modeling\n",
    "\n",
    "For more detailed information, please see: \n",
    "\n",
    "Koppelman & Bhat (2006) A Self-Instructing Course in Mode Choice Modeling\n",
    "http://www.caee.utexas.edu/prof/bhat/COURSES/LM_Draft_060131Final-060630.pdf \n",
    "\n",
    "\n",
    "### Motivation\n",
    "\n",
    "Not everything has a continous dependent variable.  Some things are discrete.  Coke or Pepsi?  Soda or pop?  Let's think of a few...\n",
    "\n",
    "Discrete choice models give us a way to model this.  \n",
    "\n",
    "\n",
    "### Elements\n",
    "\n",
    "In this framework, there are several elements to the choice decision process: \n",
    "\n",
    "- The decision maker\n",
    "- The alternatives\n",
    "- Attributes of the alternatives\n",
    "- The decision rule\n",
    "\n",
    "\n",
    "### Structure and Assumptions\n",
    "\n",
    "We will use a multi-nomial logit (MNL) model.  It takes the form: \n",
    "\n",
    "$Pr(i) = \\frac{e^{U_i}}{\\sum_{j=1}^{J} e^{U_j}}$\n",
    "\n",
    "where $U_i = \\beta X_i + \\epsilon_i$ and $\\epsilon_i$ follows a Gumbel distribution. \n",
    "\n",
    "This equation defines the decision rule.  A bit of time to work it through...\n",
    "\n",
    "### Libraries\n",
    "\n",
    "Will be using [Statsmodels](http://statsmodels.sourceforge.net/).  Start with: \n",
    "\n",
    "    conda install statsmodels\n",
    "    \n",
    "    "
   ]
  },
  {
   "cell_type": "markdown",
   "metadata": {},
   "source": [
    "### Today's objective\n",
    "\n",
    "Today, we want to predict vehicle ownership.  \n",
    "\n",
    "We'll be using the PUMS data again.  This time we'll use the household records instead of the person records, and households will be our decision-making unit.  You can find the data here: \n",
    "\n",
    "https://www.census.gov/programs-surveys/acs/data/pums.html\n",
    "\n",
    "Please download the Kentucky 1-year household data.  "
   ]
  },
  {
   "cell_type": "code",
   "execution_count": 5,
   "metadata": {
    "collapsed": true
   },
   "outputs": [],
   "source": [
    "import pandas as pd\n",
    "import seaborn as sns\n",
    "import numpy as np\n",
    "import statsmodels.formula.api as smf\n",
    "\n",
    "# this allows plots to appear directly in the notebook\n",
    "%matplotlib inline"
   ]
  },
  {
   "cell_type": "code",
   "execution_count": 7,
   "metadata": {},
   "outputs": [
    {
     "data": {
      "text/html": [
       "<div>\n",
       "<style scoped>\n",
       "    .dataframe tbody tr th:only-of-type {\n",
       "        vertical-align: middle;\n",
       "    }\n",
       "\n",
       "    .dataframe tbody tr th {\n",
       "        vertical-align: top;\n",
       "    }\n",
       "\n",
       "    .dataframe thead th {\n",
       "        text-align: right;\n",
       "    }\n",
       "</style>\n",
       "<table border=\"1\" class=\"dataframe\">\n",
       "  <thead>\n",
       "    <tr style=\"text-align: right;\">\n",
       "      <th></th>\n",
       "      <th>RT</th>\n",
       "      <th>SERIALNO</th>\n",
       "      <th>ST</th>\n",
       "      <th>DIVISION</th>\n",
       "      <th>PUMA</th>\n",
       "      <th>REGION</th>\n",
       "      <th>ADJHSG</th>\n",
       "      <th>ADJINC</th>\n",
       "      <th>WGTP</th>\n",
       "      <th>NP</th>\n",
       "      <th>...</th>\n",
       "      <th>wgtp71</th>\n",
       "      <th>wgtp72</th>\n",
       "      <th>wgtp73</th>\n",
       "      <th>wgtp74</th>\n",
       "      <th>wgtp75</th>\n",
       "      <th>wgtp76</th>\n",
       "      <th>wgtp77</th>\n",
       "      <th>wgtp78</th>\n",
       "      <th>wgtp79</th>\n",
       "      <th>wgtp80</th>\n",
       "    </tr>\n",
       "  </thead>\n",
       "  <tbody>\n",
       "    <tr>\n",
       "      <th>0</th>\n",
       "      <td>H</td>\n",
       "      <td>42</td>\n",
       "      <td>21</td>\n",
       "      <td>6</td>\n",
       "      <td>2700</td>\n",
       "      <td>3</td>\n",
       "      <td>1000000</td>\n",
       "      <td>1007588</td>\n",
       "      <td>25</td>\n",
       "      <td>5</td>\n",
       "      <td>...</td>\n",
       "      <td>8</td>\n",
       "      <td>24</td>\n",
       "      <td>26</td>\n",
       "      <td>23</td>\n",
       "      <td>28</td>\n",
       "      <td>25</td>\n",
       "      <td>38</td>\n",
       "      <td>37</td>\n",
       "      <td>40</td>\n",
       "      <td>35</td>\n",
       "    </tr>\n",
       "    <tr>\n",
       "      <th>1</th>\n",
       "      <td>H</td>\n",
       "      <td>45</td>\n",
       "      <td>21</td>\n",
       "      <td>6</td>\n",
       "      <td>2600</td>\n",
       "      <td>3</td>\n",
       "      <td>1000000</td>\n",
       "      <td>1007588</td>\n",
       "      <td>84</td>\n",
       "      <td>2</td>\n",
       "      <td>...</td>\n",
       "      <td>95</td>\n",
       "      <td>74</td>\n",
       "      <td>76</td>\n",
       "      <td>151</td>\n",
       "      <td>88</td>\n",
       "      <td>25</td>\n",
       "      <td>93</td>\n",
       "      <td>25</td>\n",
       "      <td>29</td>\n",
       "      <td>105</td>\n",
       "    </tr>\n",
       "    <tr>\n",
       "      <th>2</th>\n",
       "      <td>H</td>\n",
       "      <td>49</td>\n",
       "      <td>21</td>\n",
       "      <td>6</td>\n",
       "      <td>1704</td>\n",
       "      <td>3</td>\n",
       "      <td>1000000</td>\n",
       "      <td>1007588</td>\n",
       "      <td>82</td>\n",
       "      <td>2</td>\n",
       "      <td>...</td>\n",
       "      <td>87</td>\n",
       "      <td>69</td>\n",
       "      <td>29</td>\n",
       "      <td>83</td>\n",
       "      <td>108</td>\n",
       "      <td>24</td>\n",
       "      <td>27</td>\n",
       "      <td>128</td>\n",
       "      <td>83</td>\n",
       "      <td>141</td>\n",
       "    </tr>\n",
       "    <tr>\n",
       "      <th>3</th>\n",
       "      <td>H</td>\n",
       "      <td>121</td>\n",
       "      <td>21</td>\n",
       "      <td>6</td>\n",
       "      <td>1300</td>\n",
       "      <td>3</td>\n",
       "      <td>1000000</td>\n",
       "      <td>1007588</td>\n",
       "      <td>12</td>\n",
       "      <td>1</td>\n",
       "      <td>...</td>\n",
       "      <td>21</td>\n",
       "      <td>13</td>\n",
       "      <td>18</td>\n",
       "      <td>10</td>\n",
       "      <td>4</td>\n",
       "      <td>10</td>\n",
       "      <td>4</td>\n",
       "      <td>21</td>\n",
       "      <td>11</td>\n",
       "      <td>25</td>\n",
       "    </tr>\n",
       "    <tr>\n",
       "      <th>4</th>\n",
       "      <td>H</td>\n",
       "      <td>143</td>\n",
       "      <td>21</td>\n",
       "      <td>6</td>\n",
       "      <td>1400</td>\n",
       "      <td>3</td>\n",
       "      <td>1000000</td>\n",
       "      <td>1007588</td>\n",
       "      <td>53</td>\n",
       "      <td>2</td>\n",
       "      <td>...</td>\n",
       "      <td>17</td>\n",
       "      <td>56</td>\n",
       "      <td>61</td>\n",
       "      <td>107</td>\n",
       "      <td>41</td>\n",
       "      <td>44</td>\n",
       "      <td>66</td>\n",
       "      <td>64</td>\n",
       "      <td>81</td>\n",
       "      <td>51</td>\n",
       "    </tr>\n",
       "  </tbody>\n",
       "</table>\n",
       "<p>5 rows × 230 columns</p>\n",
       "</div>"
      ],
      "text/plain": [
       "  RT  SERIALNO  ST  DIVISION  PUMA  REGION   ADJHSG   ADJINC  WGTP  NP  \\\n",
       "0  H        42  21         6  2700       3  1000000  1007588    25   5   \n",
       "1  H        45  21         6  2600       3  1000000  1007588    84   2   \n",
       "2  H        49  21         6  1704       3  1000000  1007588    82   2   \n",
       "3  H       121  21         6  1300       3  1000000  1007588    12   1   \n",
       "4  H       143  21         6  1400       3  1000000  1007588    53   2   \n",
       "\n",
       "    ...    wgtp71  wgtp72  wgtp73  wgtp74  wgtp75  wgtp76  wgtp77  wgtp78  \\\n",
       "0   ...         8      24      26      23      28      25      38      37   \n",
       "1   ...        95      74      76     151      88      25      93      25   \n",
       "2   ...        87      69      29      83     108      24      27     128   \n",
       "3   ...        21      13      18      10       4      10       4      21   \n",
       "4   ...        17      56      61     107      41      44      66      64   \n",
       "\n",
       "   wgtp79  wgtp80  \n",
       "0      40      35  \n",
       "1      29     105  \n",
       "2      83     141  \n",
       "3      11      25  \n",
       "4      81      51  \n",
       "\n",
       "[5 rows x 230 columns]"
      ]
     },
     "execution_count": 7,
     "metadata": {},
     "output_type": "execute_result"
    }
   ],
   "source": [
    "# get the data\n",
    "df = pd.read_csv('data/ss16hky.csv')\n",
    "df.head()"
   ]
  },
  {
   "cell_type": "code",
   "execution_count": null,
   "metadata": {
    "collapsed": true
   },
   "outputs": [],
   "source": [
    "# keep only occupied housing units\n",
    "'''\n",
    "NP 2\n",
    "Number of person records following this housing record\n",
    "00 .Vacant unit\n",
    "01 .One person record (one person in household or any person in\n",
    ".group quarters)\n",
    "02..20 .Number of person records (number of persons in household)\n",
    "\n",
    "TYPE 1\n",
    "Type of unit\n",
    "1 .Housing unit\n",
    "2 .Institutional group quarters\n",
    "3 .Noninstitutional group quarters\n",
    "'''\n",
    "\n",
    "df = df[df['TYPE']==1]\n",
    "df = df[df['NP']>0]\n",
    "len(df)"
   ]
  },
  {
   "cell_type": "markdown",
   "metadata": {},
   "source": [
    "### Look at the data\n",
    "\n",
    "It is often a good idea to look at the data we want to model, and see how it relates to some variables we expect to be important.  We can do this using seaborn, which we learned about a few weeks ago.  "
   ]
  },
  {
   "cell_type": "code",
   "execution_count": null,
   "metadata": {
    "collapsed": true
   },
   "outputs": [],
   "source": [
    "'''\n",
    "10\n",
    "VEH 1\n",
    "Vehicles (1 ton or less) available\n",
    "b .N/A (GQ/vacant)\n",
    "0 .No vehicles\n",
    "1 .1 vehicle\n",
    "2 .2 vehicles\n",
    "3 .3 vehicles\n",
    "4 .4 vehicles\n",
    "5 .5 vehicles\n",
    "6 .6 or more vehicles\n",
    "'''\n",
    "\n",
    "sns.distplot(df['VEH'])"
   ]
  },
  {
   "cell_type": "code",
   "execution_count": null,
   "metadata": {
    "collapsed": true
   },
   "outputs": [],
   "source": [
    "# there aren't very many above 3, so group all of those\n",
    "df['VEH'] = df['VEH'].apply(lambda x : min(x, 3))\n",
    "df['VEH'] = df['VEH'].astype(int)\n",
    "\n",
    "sns.distplot(df['VEH'])"
   ]
  },
  {
   "cell_type": "markdown",
   "metadata": {},
   "source": [
    "### Estimating a model\n",
    "\n",
    "OK, that's fine, we can do plots, but we want some actual numbers.  For this, we want to estimate what the model coefficients are. "
   ]
  },
  {
   "cell_type": "code",
   "execution_count": null,
   "metadata": {
    "collapsed": true
   },
   "outputs": [],
   "source": [
    "# Here is the constants only model. \n",
    "mod = smf.MNLogit.from_formula(formula='VEH ~ 1', data=df)\n",
    "res = mod.fit()\n",
    "print(res.summary())"
   ]
  },
  {
   "cell_type": "markdown",
   "metadata": {},
   "source": [
    "Notice a few things: \n",
    "\n",
    "1. Goodness of fit measures\n",
    "2. Separate coefficients for each alternative"
   ]
  },
  {
   "cell_type": "code",
   "execution_count": null,
   "metadata": {
    "collapsed": true
   },
   "outputs": [],
   "source": [
    "# That's fine, but we may try some more things.  Perhaps age matters. \n",
    "# More people -> more cars? \n",
    "\n",
    "mod = smf.MNLogit.from_formula(formula='VEH ~ NP + 1', data=df)\n",
    "res = mod.fit()\n",
    "print(res.summary())"
   ]
  },
  {
   "cell_type": "markdown",
   "metadata": {},
   "source": [
    "We can apply this model"
   ]
  },
  {
   "cell_type": "markdown",
   "metadata": {},
   "source": [
    "### Categorical variables\n",
    "\n",
    "We may also want to include categorical variables.  We can include them by calculating a 'dummy' variable, which is 1 if the value is in a category, and zero otherwise.  "
   ]
  },
  {
   "cell_type": "code",
   "execution_count": null,
   "metadata": {
    "collapsed": true
   },
   "outputs": [],
   "source": [
    "'''\n",
    "HUPAC 1\n",
    "HH presence and age of children\n",
    "b .N/A (GQ/vacant)\n",
    "1 .With children under 6 years only\n",
    "2 .With children 6 to 17 years only\n",
    "3 .With children under 6 years and 6 to 17 years\n",
    "4 .No children\n",
    "'''\n",
    "\n",
    "dummies = pd.get_dummies(df['HUPAC'])\n",
    "dummies.columns = ['kids_u6', 'kids_6_17', 'kids_u6_and_617', 'no_kids']\n",
    "df = df.join(dummies)\n",
    "df.head()"
   ]
  },
  {
   "cell_type": "code",
   "execution_count": null,
   "metadata": {
    "collapsed": true
   },
   "outputs": [],
   "source": [
    "# That's fine, but we may try some more things.  Perhaps age matters. \n",
    "# More people -> more cars? \n",
    "\n",
    "mod = smf.MNLogit.from_formula(formula='VEH ~ NP + kids_u6 + kids_6_17 + kids_u6_and_617 + 1', data=df)\n",
    "res = mod.fit()\n",
    "print(res.summary())"
   ]
  },
  {
   "cell_type": "code",
   "execution_count": null,
   "metadata": {
    "collapsed": true
   },
   "outputs": [],
   "source": [
    "# what else should we add? "
   ]
  },
  {
   "cell_type": "code",
   "execution_count": null,
   "metadata": {
    "collapsed": true
   },
   "outputs": [],
   "source": []
  },
  {
   "cell_type": "markdown",
   "metadata": {},
   "source": [
    "### Homework\n",
    "\n",
    "Calculate the probability that a 1-person household in Lexington, earning $16,000 per year owns 0, 1, 2 or 3+ vehicles.  "
   ]
  },
  {
   "cell_type": "code",
   "execution_count": null,
   "metadata": {
    "collapsed": true
   },
   "outputs": [],
   "source": []
  },
  {
   "cell_type": "code",
   "execution_count": null,
   "metadata": {
    "collapsed": true
   },
   "outputs": [],
   "source": []
  }
 ],
 "metadata": {
  "anaconda-cloud": {},
  "kernelspec": {
   "display_name": "Python 3",
   "language": "python",
   "name": "python3"
  },
  "language_info": {
   "codemirror_mode": {
    "name": "ipython",
    "version": 3
   },
   "file_extension": ".py",
   "mimetype": "text/x-python",
   "name": "python",
   "nbconvert_exporter": "python",
   "pygments_lexer": "ipython3",
   "version": "3.6.3"
  }
 },
 "nbformat": 4,
 "nbformat_minor": 1
}
