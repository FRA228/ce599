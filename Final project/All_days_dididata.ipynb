{
 "cells": [
  {
   "cell_type": "code",
   "execution_count": 1,
   "metadata": {},
   "outputs": [
    {
     "data": {
      "text/html": [
       "<div>\n",
       "<style>\n",
       "    .dataframe thead tr:only-child th {\n",
       "        text-align: right;\n",
       "    }\n",
       "\n",
       "    .dataframe thead th {\n",
       "        text-align: left;\n",
       "    }\n",
       "\n",
       "    .dataframe tbody tr th {\n",
       "        vertical-align: top;\n",
       "    }\n",
       "</style>\n",
       "<table border=\"1\" class=\"dataframe\">\n",
       "  <thead>\n",
       "    <tr style=\"text-align: right;\">\n",
       "      <th></th>\n",
       "      <th>DriverID</th>\n",
       "      <th>OrderID</th>\n",
       "      <th>TimeStamp</th>\n",
       "      <th>Longitude</th>\n",
       "      <th>Latitude</th>\n",
       "    </tr>\n",
       "  </thead>\n",
       "  <tbody>\n",
       "    <tr>\n",
       "      <th>0</th>\n",
       "      <td>cbd8237f1b71595dbfc963c439e8ee00</td>\n",
       "      <td>ba70af5bd30a9026e756c82314291192</td>\n",
       "      <td>1479194294</td>\n",
       "      <td>104.07323</td>\n",
       "      <td>30.69225</td>\n",
       "    </tr>\n",
       "    <tr>\n",
       "      <th>1</th>\n",
       "      <td>cbd8237f1b71595dbfc963c439e8ee00</td>\n",
       "      <td>ba70af5bd30a9026e756c82314291192</td>\n",
       "      <td>1479194296</td>\n",
       "      <td>104.07323</td>\n",
       "      <td>30.69225</td>\n",
       "    </tr>\n",
       "    <tr>\n",
       "      <th>2</th>\n",
       "      <td>cbd8237f1b71595dbfc963c439e8ee00</td>\n",
       "      <td>ba70af5bd30a9026e756c82314291192</td>\n",
       "      <td>1479194300</td>\n",
       "      <td>104.07323</td>\n",
       "      <td>30.69225</td>\n",
       "    </tr>\n",
       "    <tr>\n",
       "      <th>3</th>\n",
       "      <td>cbd8237f1b71595dbfc963c439e8ee00</td>\n",
       "      <td>ba70af5bd30a9026e756c82314291192</td>\n",
       "      <td>1479194303</td>\n",
       "      <td>104.07323</td>\n",
       "      <td>30.69225</td>\n",
       "    </tr>\n",
       "    <tr>\n",
       "      <th>4</th>\n",
       "      <td>cbd8237f1b71595dbfc963c439e8ee00</td>\n",
       "      <td>ba70af5bd30a9026e756c82314291192</td>\n",
       "      <td>1479194306</td>\n",
       "      <td>104.07323</td>\n",
       "      <td>30.69225</td>\n",
       "    </tr>\n",
       "  </tbody>\n",
       "</table>\n",
       "</div>"
      ],
      "text/plain": [
       "                           DriverID                           OrderID  \\\n",
       "0  cbd8237f1b71595dbfc963c439e8ee00  ba70af5bd30a9026e756c82314291192   \n",
       "1  cbd8237f1b71595dbfc963c439e8ee00  ba70af5bd30a9026e756c82314291192   \n",
       "2  cbd8237f1b71595dbfc963c439e8ee00  ba70af5bd30a9026e756c82314291192   \n",
       "3  cbd8237f1b71595dbfc963c439e8ee00  ba70af5bd30a9026e756c82314291192   \n",
       "4  cbd8237f1b71595dbfc963c439e8ee00  ba70af5bd30a9026e756c82314291192   \n",
       "\n",
       "    TimeStamp  Longitude  Latitude  \n",
       "0  1479194294  104.07323  30.69225  \n",
       "1  1479194296  104.07323  30.69225  \n",
       "2  1479194300  104.07323  30.69225  \n",
       "3  1479194303  104.07323  30.69225  \n",
       "4  1479194306  104.07323  30.69225  "
      ]
     },
     "execution_count": 1,
     "metadata": {},
     "output_type": "execute_result"
    }
   ],
   "source": [
    "import pandas as pd\n",
    "import numpy as np\n",
    "#import dask.dataframe as dd\n",
    "#import dask.distributed\n",
    "import dask.dataframe as dd\n",
    "import dask.distributed\n",
    "\n",
    "#Nov15\n",
    "ddfile = 'Z:/DiDi/gps_20161115.txt'\n",
    "di = dd.read_csv(ddfile, names = [\"DriverID\", \"OrderID\", \"TimeStamp\", \"Longitude\",\"Latitude\"])\n",
    "di.head()"
   ]
  },
  {
   "cell_type": "code",
   "execution_count": 2,
   "metadata": {},
   "outputs": [
    {
     "name": "stdout",
     "output_type": "stream",
     "text": [
      "Wall time: 0 ns\n"
     ]
    },
    {
     "data": {
      "text/html": [
       "<div>\n",
       "<style>\n",
       "    .dataframe thead tr:only-child th {\n",
       "        text-align: right;\n",
       "    }\n",
       "\n",
       "    .dataframe thead th {\n",
       "        text-align: left;\n",
       "    }\n",
       "\n",
       "    .dataframe tbody tr th {\n",
       "        vertical-align: top;\n",
       "    }\n",
       "</style>\n",
       "<table border=\"1\" class=\"dataframe\">\n",
       "  <thead>\n",
       "    <tr style=\"text-align: right;\">\n",
       "      <th></th>\n",
       "      <th>DriverID</th>\n",
       "      <th>OrderID</th>\n",
       "      <th>TimeStamp</th>\n",
       "      <th>Longitude</th>\n",
       "      <th>Latitude</th>\n",
       "    </tr>\n",
       "  </thead>\n",
       "  <tbody>\n",
       "    <tr>\n",
       "      <th>0</th>\n",
       "      <td>cbd8237f1b71595dbfc963c439e8ee00</td>\n",
       "      <td>ba70af5bd30a9026e756c82314291192</td>\n",
       "      <td>1479194294</td>\n",
       "      <td>104.07323</td>\n",
       "      <td>30.69225</td>\n",
       "    </tr>\n",
       "    <tr>\n",
       "      <th>1</th>\n",
       "      <td>cbd8237f1b71595dbfc963c439e8ee00</td>\n",
       "      <td>ba70af5bd30a9026e756c82314291192</td>\n",
       "      <td>1479194296</td>\n",
       "      <td>104.07323</td>\n",
       "      <td>30.69225</td>\n",
       "    </tr>\n",
       "    <tr>\n",
       "      <th>2</th>\n",
       "      <td>cbd8237f1b71595dbfc963c439e8ee00</td>\n",
       "      <td>ba70af5bd30a9026e756c82314291192</td>\n",
       "      <td>1479194300</td>\n",
       "      <td>104.07323</td>\n",
       "      <td>30.69225</td>\n",
       "    </tr>\n",
       "    <tr>\n",
       "      <th>3</th>\n",
       "      <td>cbd8237f1b71595dbfc963c439e8ee00</td>\n",
       "      <td>ba70af5bd30a9026e756c82314291192</td>\n",
       "      <td>1479194303</td>\n",
       "      <td>104.07323</td>\n",
       "      <td>30.69225</td>\n",
       "    </tr>\n",
       "    <tr>\n",
       "      <th>4</th>\n",
       "      <td>cbd8237f1b71595dbfc963c439e8ee00</td>\n",
       "      <td>ba70af5bd30a9026e756c82314291192</td>\n",
       "      <td>1479194306</td>\n",
       "      <td>104.07323</td>\n",
       "      <td>30.69225</td>\n",
       "    </tr>\n",
       "  </tbody>\n",
       "</table>\n",
       "</div>"
      ],
      "text/plain": [
       "                           DriverID                           OrderID  \\\n",
       "0  cbd8237f1b71595dbfc963c439e8ee00  ba70af5bd30a9026e756c82314291192   \n",
       "1  cbd8237f1b71595dbfc963c439e8ee00  ba70af5bd30a9026e756c82314291192   \n",
       "2  cbd8237f1b71595dbfc963c439e8ee00  ba70af5bd30a9026e756c82314291192   \n",
       "3  cbd8237f1b71595dbfc963c439e8ee00  ba70af5bd30a9026e756c82314291192   \n",
       "4  cbd8237f1b71595dbfc963c439e8ee00  ba70af5bd30a9026e756c82314291192   \n",
       "\n",
       "    TimeStamp  Longitude  Latitude  \n",
       "0  1479194294  104.07323  30.69225  \n",
       "1  1479194296  104.07323  30.69225  \n",
       "2  1479194300  104.07323  30.69225  \n",
       "3  1479194303  104.07323  30.69225  \n",
       "4  1479194306  104.07323  30.69225  "
      ]
     },
     "execution_count": 2,
     "metadata": {},
     "output_type": "execute_result"
    }
   ],
   "source": [
    "#filter out the data by buffer (30 m on both sides)\n",
    "%time\n",
    "trips = di[(di.Longitude>=104.047) & (di.Longitude<=104.083)]\n",
    "#zone=zone.compute()\n",
    "trips.head()"
   ]
  },
  {
   "cell_type": "code",
   "execution_count": 3,
   "metadata": {},
   "outputs": [
    {
     "name": "stdout",
     "output_type": "stream",
     "text": [
      "Wall time: 0 ns\n"
     ]
    },
    {
     "data": {
      "text/html": [
       "<div>\n",
       "<style>\n",
       "    .dataframe thead tr:only-child th {\n",
       "        text-align: right;\n",
       "    }\n",
       "\n",
       "    .dataframe thead th {\n",
       "        text-align: left;\n",
       "    }\n",
       "\n",
       "    .dataframe tbody tr th {\n",
       "        vertical-align: top;\n",
       "    }\n",
       "</style>\n",
       "<table border=\"1\" class=\"dataframe\">\n",
       "  <thead>\n",
       "    <tr style=\"text-align: right;\">\n",
       "      <th></th>\n",
       "      <th>DriverID</th>\n",
       "      <th>OrderID</th>\n",
       "      <th>TimeStamp</th>\n",
       "      <th>Longitude</th>\n",
       "      <th>Latitude</th>\n",
       "    </tr>\n",
       "  </thead>\n",
       "  <tbody>\n",
       "    <tr>\n",
       "      <th>441</th>\n",
       "      <td>20a72cb1d5402ec420bcb05d9b5022c3</td>\n",
       "      <td>4fe8135b0154058a6f1d3c20d0af3ac2</td>\n",
       "      <td>1479202200</td>\n",
       "      <td>104.04755</td>\n",
       "      <td>30.69414</td>\n",
       "    </tr>\n",
       "    <tr>\n",
       "      <th>442</th>\n",
       "      <td>20a72cb1d5402ec420bcb05d9b5022c3</td>\n",
       "      <td>4fe8135b0154058a6f1d3c20d0af3ac2</td>\n",
       "      <td>1479202206</td>\n",
       "      <td>104.04809</td>\n",
       "      <td>30.69419</td>\n",
       "    </tr>\n",
       "    <tr>\n",
       "      <th>443</th>\n",
       "      <td>20a72cb1d5402ec420bcb05d9b5022c3</td>\n",
       "      <td>4fe8135b0154058a6f1d3c20d0af3ac2</td>\n",
       "      <td>1479202209</td>\n",
       "      <td>104.04824</td>\n",
       "      <td>30.69420</td>\n",
       "    </tr>\n",
       "    <tr>\n",
       "      <th>444</th>\n",
       "      <td>20a72cb1d5402ec420bcb05d9b5022c3</td>\n",
       "      <td>4fe8135b0154058a6f1d3c20d0af3ac2</td>\n",
       "      <td>1479202212</td>\n",
       "      <td>104.04837</td>\n",
       "      <td>30.69421</td>\n",
       "    </tr>\n",
       "    <tr>\n",
       "      <th>445</th>\n",
       "      <td>20a72cb1d5402ec420bcb05d9b5022c3</td>\n",
       "      <td>4fe8135b0154058a6f1d3c20d0af3ac2</td>\n",
       "      <td>1479202215</td>\n",
       "      <td>104.04845</td>\n",
       "      <td>30.69422</td>\n",
       "    </tr>\n",
       "  </tbody>\n",
       "</table>\n",
       "</div>"
      ],
      "text/plain": [
       "                             DriverID                           OrderID  \\\n",
       "441  20a72cb1d5402ec420bcb05d9b5022c3  4fe8135b0154058a6f1d3c20d0af3ac2   \n",
       "442  20a72cb1d5402ec420bcb05d9b5022c3  4fe8135b0154058a6f1d3c20d0af3ac2   \n",
       "443  20a72cb1d5402ec420bcb05d9b5022c3  4fe8135b0154058a6f1d3c20d0af3ac2   \n",
       "444  20a72cb1d5402ec420bcb05d9b5022c3  4fe8135b0154058a6f1d3c20d0af3ac2   \n",
       "445  20a72cb1d5402ec420bcb05d9b5022c3  4fe8135b0154058a6f1d3c20d0af3ac2   \n",
       "\n",
       "      TimeStamp  Longitude  Latitude  \n",
       "441  1479202200  104.04755  30.69414  \n",
       "442  1479202206  104.04809  30.69419  \n",
       "443  1479202209  104.04824  30.69420  \n",
       "444  1479202212  104.04837  30.69421  \n",
       "445  1479202215  104.04845  30.69422  "
      ]
     },
     "execution_count": 3,
     "metadata": {},
     "output_type": "execute_result"
    }
   ],
   "source": [
    "%time\n",
    "trips = trips[(trips.Latitude<=30.695) & (trips.Latitude>=30.694)]\n",
    "trips=trips.compute()\n",
    "trips.head()"
   ]
  },
  {
   "cell_type": "code",
   "execution_count": 4,
   "metadata": {
    "collapsed": true
   },
   "outputs": [],
   "source": [
    "trips_2 = trips\n",
    "order_count = trips_2.groupby(by = 'OrderID', as_index = False).count()\n",
    "bad_ids = order_count[order_count['DriverID'] == 1].OrderID"
   ]
  },
  {
   "cell_type": "code",
   "execution_count": 5,
   "metadata": {
    "collapsed": true
   },
   "outputs": [],
   "source": [
    "Good_trips = trips_2[~trips_2['OrderID'].isin(bad_ids)]"
   ]
  },
  {
   "cell_type": "code",
   "execution_count": 6,
   "metadata": {},
   "outputs": [
    {
     "name": "stdout",
     "output_type": "stream",
     "text": [
      "2016-11-09 23:06:53\n"
     ]
    }
   ],
   "source": [
    "import datetime\n",
    "print(\n",
    "    datetime.datetime.fromtimestamp(int(\"1478750813\")).strftime('%Y-%m-%d %H:%M:%S')\n",
    ")"
   ]
  },
  {
   "cell_type": "code",
   "execution_count": 7,
   "metadata": {},
   "outputs": [
    {
     "name": "stderr",
     "output_type": "stream",
     "text": [
      "C:\\ProgramData\\Anaconda3\\lib\\site-packages\\ipykernel_launcher.py:1: SettingWithCopyWarning: \n",
      "A value is trying to be set on a copy of a slice from a DataFrame.\n",
      "Try using .loc[row_indexer,col_indexer] = value instead\n",
      "\n",
      "See the caveats in the documentation: http://pandas.pydata.org/pandas-docs/stable/indexing.html#indexing-view-versus-copy\n",
      "  \"\"\"Entry point for launching an IPython kernel.\n"
     ]
    }
   ],
   "source": [
    "Good_trips['time_date'] = Good_trips['TimeStamp'].apply(lambda x : datetime.datetime.fromtimestamp(int(x)).strftime('%Y-%m-%d %H:%M:%S'))"
   ]
  },
  {
   "cell_type": "code",
   "execution_count": 8,
   "metadata": {},
   "outputs": [
    {
     "name": "stderr",
     "output_type": "stream",
     "text": [
      "C:\\ProgramData\\Anaconda3\\lib\\site-packages\\ipykernel_launcher.py:1: SettingWithCopyWarning: \n",
      "A value is trying to be set on a copy of a slice from a DataFrame.\n",
      "Try using .loc[row_indexer,col_indexer] = value instead\n",
      "\n",
      "See the caveats in the documentation: http://pandas.pydata.org/pandas-docs/stable/indexing.html#indexing-view-versus-copy\n",
      "  \"\"\"Entry point for launching an IPython kernel.\n"
     ]
    }
   ],
   "source": [
    "Good_trips['date_time'] = pd.to_datetime(Good_trips['time_date'])"
   ]
  },
  {
   "cell_type": "code",
   "execution_count": 9,
   "metadata": {},
   "outputs": [
    {
     "name": "stderr",
     "output_type": "stream",
     "text": [
      "C:\\ProgramData\\Anaconda3\\lib\\site-packages\\ipykernel_launcher.py:1: SettingWithCopyWarning: \n",
      "A value is trying to be set on a copy of a slice from a DataFrame.\n",
      "Try using .loc[row_indexer,col_indexer] = value instead\n",
      "\n",
      "See the caveats in the documentation: http://pandas.pydata.org/pandas-docs/stable/indexing.html#indexing-view-versus-copy\n",
      "  \"\"\"Entry point for launching an IPython kernel.\n"
     ]
    }
   ],
   "source": [
    "Good_trips['HOUR-Min'] = Good_trips['TimeStamp'].apply(lambda x : datetime.datetime.fromtimestamp(int(x)).strftime('%H:%M'))"
   ]
  },
  {
   "cell_type": "code",
   "execution_count": 10,
   "metadata": {
    "collapsed": true
   },
   "outputs": [],
   "source": [
    "df = Good_trips"
   ]
  },
  {
   "cell_type": "code",
   "execution_count": 11,
   "metadata": {
    "collapsed": true
   },
   "outputs": [],
   "source": [
    "def haversine_np(lon1, lat1, lon2, lat2):\n",
    "    \"\"\"\n",
    "    Calculate the great circle distance between two points\n",
    "    on the earth (specified in decimal degrees)\n",
    "\n",
    "    All args must be of equal length.    \n",
    "\n",
    "    \"\"\"\n",
    "    lon1, lat1, lon2, lat2 = map(np.radians, [lon1, lat1, lon2, lat2])\n",
    "\n",
    "    dlon = lon2 - lon1\n",
    "    dlat = lat2 - lat1\n",
    "\n",
    "    a = np.sin(dlat/2.0)**2 + np.cos(lat1) * np.cos(lat2) * np.sin(dlon/2.0)**2\n",
    "\n",
    "    c = 2 * np.arcsin(np.sqrt(a))\n",
    "    km = 6367 * c\n",
    "    return km\n"
   ]
  },
  {
   "cell_type": "code",
   "execution_count": 12,
   "metadata": {},
   "outputs": [
    {
     "data": {
      "text/plain": [
       "1539248"
      ]
     },
     "execution_count": 12,
     "metadata": {},
     "output_type": "execute_result"
    }
   ],
   "source": [
    "len(df)"
   ]
  },
  {
   "cell_type": "code",
   "execution_count": 13,
   "metadata": {},
   "outputs": [
    {
     "name": "stderr",
     "output_type": "stream",
     "text": [
      "C:\\ProgramData\\Anaconda3\\lib\\site-packages\\ipykernel_launcher.py:1: SettingWithCopyWarning: \n",
      "A value is trying to be set on a copy of a slice from a DataFrame.\n",
      "Try using .loc[row_indexer,col_indexer] = value instead\n",
      "\n",
      "See the caveats in the documentation: http://pandas.pydata.org/pandas-docs/stable/indexing.html#indexing-view-versus-copy\n",
      "  \"\"\"Entry point for launching an IPython kernel.\n",
      "C:\\ProgramData\\Anaconda3\\lib\\site-packages\\ipykernel_launcher.py:2: SettingWithCopyWarning: \n",
      "A value is trying to be set on a copy of a slice from a DataFrame.\n",
      "Try using .loc[row_indexer,col_indexer] = value instead\n",
      "\n",
      "See the caveats in the documentation: http://pandas.pydata.org/pandas-docs/stable/indexing.html#indexing-view-versus-copy\n",
      "  \n"
     ]
    }
   ],
   "source": [
    "df['Longitude_shifted'] = df.Longitude.shift()\n",
    "df['Latitude_shifted'] = df.Latitude.shift()"
   ]
  },
  {
   "cell_type": "code",
   "execution_count": 14,
   "metadata": {},
   "outputs": [
    {
     "name": "stdout",
     "output_type": "stream",
     "text": [
      "Time taken by all the trips is 241.57999992370605.\n"
     ]
    },
    {
     "name": "stderr",
     "output_type": "stream",
     "text": [
      "C:\\ProgramData\\Anaconda3\\lib\\site-packages\\ipykernel_launcher.py:4: SettingWithCopyWarning: \n",
      "A value is trying to be set on a copy of a slice from a DataFrame.\n",
      "Try using .loc[row_indexer,col_indexer] = value instead\n",
      "\n",
      "See the caveats in the documentation: http://pandas.pydata.org/pandas-docs/stable/indexing.html#indexing-view-versus-copy\n",
      "  after removing the cwd from sys.path.\n"
     ]
    }
   ],
   "source": [
    "import time\n",
    "s0 = time.time()\n",
    "\n",
    "df['Dist'] = df.apply(lambda row: haversine_np(row.Longitude_shifted, row.Latitude_shifted, row.Longitude, row.Latitude), axis=1)\n",
    "\n",
    "e0 = time.time()\n",
    "print(\"Time taken by all the trips is {}.\".format((e0-s0)))"
   ]
  },
  {
   "cell_type": "code",
   "execution_count": 15,
   "metadata": {
    "collapsed": true
   },
   "outputs": [],
   "source": [
    "df = df[~df.Dist.isnull()]"
   ]
  },
  {
   "cell_type": "code",
   "execution_count": 16,
   "metadata": {
    "collapsed": true
   },
   "outputs": [],
   "source": [
    "#df.head()\n",
    "#df1 = df[['OrderID', 'TimeStamp', 'Longitude', 'Latitude', 'time_date', 'date_time', 'HOUR-Min', 'Dist', 'Dist_mile' ]]"
   ]
  },
  {
   "cell_type": "code",
   "execution_count": 17,
   "metadata": {},
   "outputs": [
    {
     "name": "stderr",
     "output_type": "stream",
     "text": [
      "C:\\ProgramData\\Anaconda3\\lib\\site-packages\\ipykernel_launcher.py:1: SettingWithCopyWarning: \n",
      "A value is trying to be set on a copy of a slice from a DataFrame.\n",
      "Try using .loc[row_indexer,col_indexer] = value instead\n",
      "\n",
      "See the caveats in the documentation: http://pandas.pydata.org/pandas-docs/stable/indexing.html#indexing-view-versus-copy\n",
      "  \"\"\"Entry point for launching an IPython kernel.\n"
     ]
    }
   ],
   "source": [
    "df['time_shifted'] = df.TimeStamp.shift()"
   ]
  },
  {
   "cell_type": "code",
   "execution_count": 18,
   "metadata": {},
   "outputs": [
    {
     "data": {
      "text/html": [
       "<div>\n",
       "<style>\n",
       "    .dataframe thead tr:only-child th {\n",
       "        text-align: right;\n",
       "    }\n",
       "\n",
       "    .dataframe thead th {\n",
       "        text-align: left;\n",
       "    }\n",
       "\n",
       "    .dataframe tbody tr th {\n",
       "        vertical-align: top;\n",
       "    }\n",
       "</style>\n",
       "<table border=\"1\" class=\"dataframe\">\n",
       "  <thead>\n",
       "    <tr style=\"text-align: right;\">\n",
       "      <th></th>\n",
       "      <th>DriverID</th>\n",
       "      <th>OrderID</th>\n",
       "      <th>TimeStamp</th>\n",
       "      <th>Longitude</th>\n",
       "      <th>Latitude</th>\n",
       "      <th>time_date</th>\n",
       "      <th>date_time</th>\n",
       "      <th>HOUR-Min</th>\n",
       "      <th>Longitude_shifted</th>\n",
       "      <th>Latitude_shifted</th>\n",
       "      <th>Dist</th>\n",
       "      <th>time_shifted</th>\n",
       "    </tr>\n",
       "  </thead>\n",
       "  <tbody>\n",
       "    <tr>\n",
       "      <th>442</th>\n",
       "      <td>20a72cb1d5402ec420bcb05d9b5022c3</td>\n",
       "      <td>4fe8135b0154058a6f1d3c20d0af3ac2</td>\n",
       "      <td>1479202206</td>\n",
       "      <td>104.04809</td>\n",
       "      <td>30.69419</td>\n",
       "      <td>2016-11-15 04:30:06</td>\n",
       "      <td>2016-11-15 04:30:06</td>\n",
       "      <td>04:30</td>\n",
       "      <td>104.04755</td>\n",
       "      <td>30.69414</td>\n",
       "      <td>0.051899</td>\n",
       "      <td>NaN</td>\n",
       "    </tr>\n",
       "    <tr>\n",
       "      <th>443</th>\n",
       "      <td>20a72cb1d5402ec420bcb05d9b5022c3</td>\n",
       "      <td>4fe8135b0154058a6f1d3c20d0af3ac2</td>\n",
       "      <td>1479202209</td>\n",
       "      <td>104.04824</td>\n",
       "      <td>30.69420</td>\n",
       "      <td>2016-11-15 04:30:09</td>\n",
       "      <td>2016-11-15 04:30:09</td>\n",
       "      <td>04:30</td>\n",
       "      <td>104.04809</td>\n",
       "      <td>30.69419</td>\n",
       "      <td>0.014377</td>\n",
       "      <td>1.479202e+09</td>\n",
       "    </tr>\n",
       "    <tr>\n",
       "      <th>444</th>\n",
       "      <td>20a72cb1d5402ec420bcb05d9b5022c3</td>\n",
       "      <td>4fe8135b0154058a6f1d3c20d0af3ac2</td>\n",
       "      <td>1479202212</td>\n",
       "      <td>104.04837</td>\n",
       "      <td>30.69421</td>\n",
       "      <td>2016-11-15 04:30:12</td>\n",
       "      <td>2016-11-15 04:30:12</td>\n",
       "      <td>04:30</td>\n",
       "      <td>104.04824</td>\n",
       "      <td>30.69420</td>\n",
       "      <td>0.012472</td>\n",
       "      <td>1.479202e+09</td>\n",
       "    </tr>\n",
       "    <tr>\n",
       "      <th>445</th>\n",
       "      <td>20a72cb1d5402ec420bcb05d9b5022c3</td>\n",
       "      <td>4fe8135b0154058a6f1d3c20d0af3ac2</td>\n",
       "      <td>1479202215</td>\n",
       "      <td>104.04845</td>\n",
       "      <td>30.69422</td>\n",
       "      <td>2016-11-15 04:30:15</td>\n",
       "      <td>2016-11-15 04:30:15</td>\n",
       "      <td>04:30</td>\n",
       "      <td>104.04837</td>\n",
       "      <td>30.69421</td>\n",
       "      <td>0.007725</td>\n",
       "      <td>1.479202e+09</td>\n",
       "    </tr>\n",
       "    <tr>\n",
       "      <th>446</th>\n",
       "      <td>20a72cb1d5402ec420bcb05d9b5022c3</td>\n",
       "      <td>4fe8135b0154058a6f1d3c20d0af3ac2</td>\n",
       "      <td>1479202218</td>\n",
       "      <td>104.04850</td>\n",
       "      <td>30.69422</td>\n",
       "      <td>2016-11-15 04:30:18</td>\n",
       "      <td>2016-11-15 04:30:18</td>\n",
       "      <td>04:30</td>\n",
       "      <td>104.04845</td>\n",
       "      <td>30.69422</td>\n",
       "      <td>0.004778</td>\n",
       "      <td>1.479202e+09</td>\n",
       "    </tr>\n",
       "  </tbody>\n",
       "</table>\n",
       "</div>"
      ],
      "text/plain": [
       "                             DriverID                           OrderID  \\\n",
       "442  20a72cb1d5402ec420bcb05d9b5022c3  4fe8135b0154058a6f1d3c20d0af3ac2   \n",
       "443  20a72cb1d5402ec420bcb05d9b5022c3  4fe8135b0154058a6f1d3c20d0af3ac2   \n",
       "444  20a72cb1d5402ec420bcb05d9b5022c3  4fe8135b0154058a6f1d3c20d0af3ac2   \n",
       "445  20a72cb1d5402ec420bcb05d9b5022c3  4fe8135b0154058a6f1d3c20d0af3ac2   \n",
       "446  20a72cb1d5402ec420bcb05d9b5022c3  4fe8135b0154058a6f1d3c20d0af3ac2   \n",
       "\n",
       "      TimeStamp  Longitude  Latitude            time_date           date_time  \\\n",
       "442  1479202206  104.04809  30.69419  2016-11-15 04:30:06 2016-11-15 04:30:06   \n",
       "443  1479202209  104.04824  30.69420  2016-11-15 04:30:09 2016-11-15 04:30:09   \n",
       "444  1479202212  104.04837  30.69421  2016-11-15 04:30:12 2016-11-15 04:30:12   \n",
       "445  1479202215  104.04845  30.69422  2016-11-15 04:30:15 2016-11-15 04:30:15   \n",
       "446  1479202218  104.04850  30.69422  2016-11-15 04:30:18 2016-11-15 04:30:18   \n",
       "\n",
       "    HOUR-Min  Longitude_shifted  Latitude_shifted      Dist  time_shifted  \n",
       "442    04:30          104.04755          30.69414  0.051899           NaN  \n",
       "443    04:30          104.04809          30.69419  0.014377  1.479202e+09  \n",
       "444    04:30          104.04824          30.69420  0.012472  1.479202e+09  \n",
       "445    04:30          104.04837          30.69421  0.007725  1.479202e+09  \n",
       "446    04:30          104.04845          30.69422  0.004778  1.479202e+09  "
      ]
     },
     "execution_count": 18,
     "metadata": {},
     "output_type": "execute_result"
    }
   ],
   "source": [
    "df.head()"
   ]
  },
  {
   "cell_type": "code",
   "execution_count": 19,
   "metadata": {},
   "outputs": [
    {
     "name": "stdout",
     "output_type": "stream",
     "text": [
      "Time taken by all the trips is 0.05499982833862305.\n"
     ]
    },
    {
     "name": "stderr",
     "output_type": "stream",
     "text": [
      "C:\\ProgramData\\Anaconda3\\lib\\site-packages\\ipykernel_launcher.py:3: SettingWithCopyWarning: \n",
      "A value is trying to be set on a copy of a slice from a DataFrame.\n",
      "Try using .loc[row_indexer,col_indexer] = value instead\n",
      "\n",
      "See the caveats in the documentation: http://pandas.pydata.org/pandas-docs/stable/indexing.html#indexing-view-versus-copy\n",
      "  This is separate from the ipykernel package so we can avoid doing imports until\n"
     ]
    }
   ],
   "source": [
    "s0 = time.time()\n",
    "\n",
    "df['time_interval'] = df['TimeStamp']- df['time_shifted']\n",
    "e0 = time.time()\n",
    "print(\"Time taken by all the trips is {}.\".format((e0-s0)))"
   ]
  },
  {
   "cell_type": "code",
   "execution_count": 20,
   "metadata": {},
   "outputs": [
    {
     "data": {
      "text/html": [
       "<div>\n",
       "<style>\n",
       "    .dataframe thead tr:only-child th {\n",
       "        text-align: right;\n",
       "    }\n",
       "\n",
       "    .dataframe thead th {\n",
       "        text-align: left;\n",
       "    }\n",
       "\n",
       "    .dataframe tbody tr th {\n",
       "        vertical-align: top;\n",
       "    }\n",
       "</style>\n",
       "<table border=\"1\" class=\"dataframe\">\n",
       "  <thead>\n",
       "    <tr style=\"text-align: right;\">\n",
       "      <th></th>\n",
       "      <th>DriverID</th>\n",
       "      <th>OrderID</th>\n",
       "      <th>TimeStamp</th>\n",
       "      <th>Longitude</th>\n",
       "      <th>Latitude</th>\n",
       "      <th>time_date</th>\n",
       "      <th>date_time</th>\n",
       "      <th>HOUR-Min</th>\n",
       "      <th>Longitude_shifted</th>\n",
       "      <th>Latitude_shifted</th>\n",
       "      <th>Dist</th>\n",
       "      <th>time_shifted</th>\n",
       "      <th>time_interval</th>\n",
       "    </tr>\n",
       "  </thead>\n",
       "  <tbody>\n",
       "    <tr>\n",
       "      <th>442</th>\n",
       "      <td>20a72cb1d5402ec420bcb05d9b5022c3</td>\n",
       "      <td>4fe8135b0154058a6f1d3c20d0af3ac2</td>\n",
       "      <td>1479202206</td>\n",
       "      <td>104.04809</td>\n",
       "      <td>30.69419</td>\n",
       "      <td>2016-11-15 04:30:06</td>\n",
       "      <td>2016-11-15 04:30:06</td>\n",
       "      <td>04:30</td>\n",
       "      <td>104.04755</td>\n",
       "      <td>30.69414</td>\n",
       "      <td>0.051899</td>\n",
       "      <td>NaN</td>\n",
       "      <td>NaN</td>\n",
       "    </tr>\n",
       "    <tr>\n",
       "      <th>443</th>\n",
       "      <td>20a72cb1d5402ec420bcb05d9b5022c3</td>\n",
       "      <td>4fe8135b0154058a6f1d3c20d0af3ac2</td>\n",
       "      <td>1479202209</td>\n",
       "      <td>104.04824</td>\n",
       "      <td>30.69420</td>\n",
       "      <td>2016-11-15 04:30:09</td>\n",
       "      <td>2016-11-15 04:30:09</td>\n",
       "      <td>04:30</td>\n",
       "      <td>104.04809</td>\n",
       "      <td>30.69419</td>\n",
       "      <td>0.014377</td>\n",
       "      <td>1.479202e+09</td>\n",
       "      <td>3.0</td>\n",
       "    </tr>\n",
       "    <tr>\n",
       "      <th>444</th>\n",
       "      <td>20a72cb1d5402ec420bcb05d9b5022c3</td>\n",
       "      <td>4fe8135b0154058a6f1d3c20d0af3ac2</td>\n",
       "      <td>1479202212</td>\n",
       "      <td>104.04837</td>\n",
       "      <td>30.69421</td>\n",
       "      <td>2016-11-15 04:30:12</td>\n",
       "      <td>2016-11-15 04:30:12</td>\n",
       "      <td>04:30</td>\n",
       "      <td>104.04824</td>\n",
       "      <td>30.69420</td>\n",
       "      <td>0.012472</td>\n",
       "      <td>1.479202e+09</td>\n",
       "      <td>3.0</td>\n",
       "    </tr>\n",
       "    <tr>\n",
       "      <th>445</th>\n",
       "      <td>20a72cb1d5402ec420bcb05d9b5022c3</td>\n",
       "      <td>4fe8135b0154058a6f1d3c20d0af3ac2</td>\n",
       "      <td>1479202215</td>\n",
       "      <td>104.04845</td>\n",
       "      <td>30.69422</td>\n",
       "      <td>2016-11-15 04:30:15</td>\n",
       "      <td>2016-11-15 04:30:15</td>\n",
       "      <td>04:30</td>\n",
       "      <td>104.04837</td>\n",
       "      <td>30.69421</td>\n",
       "      <td>0.007725</td>\n",
       "      <td>1.479202e+09</td>\n",
       "      <td>3.0</td>\n",
       "    </tr>\n",
       "    <tr>\n",
       "      <th>446</th>\n",
       "      <td>20a72cb1d5402ec420bcb05d9b5022c3</td>\n",
       "      <td>4fe8135b0154058a6f1d3c20d0af3ac2</td>\n",
       "      <td>1479202218</td>\n",
       "      <td>104.04850</td>\n",
       "      <td>30.69422</td>\n",
       "      <td>2016-11-15 04:30:18</td>\n",
       "      <td>2016-11-15 04:30:18</td>\n",
       "      <td>04:30</td>\n",
       "      <td>104.04845</td>\n",
       "      <td>30.69422</td>\n",
       "      <td>0.004778</td>\n",
       "      <td>1.479202e+09</td>\n",
       "      <td>3.0</td>\n",
       "    </tr>\n",
       "  </tbody>\n",
       "</table>\n",
       "</div>"
      ],
      "text/plain": [
       "                             DriverID                           OrderID  \\\n",
       "442  20a72cb1d5402ec420bcb05d9b5022c3  4fe8135b0154058a6f1d3c20d0af3ac2   \n",
       "443  20a72cb1d5402ec420bcb05d9b5022c3  4fe8135b0154058a6f1d3c20d0af3ac2   \n",
       "444  20a72cb1d5402ec420bcb05d9b5022c3  4fe8135b0154058a6f1d3c20d0af3ac2   \n",
       "445  20a72cb1d5402ec420bcb05d9b5022c3  4fe8135b0154058a6f1d3c20d0af3ac2   \n",
       "446  20a72cb1d5402ec420bcb05d9b5022c3  4fe8135b0154058a6f1d3c20d0af3ac2   \n",
       "\n",
       "      TimeStamp  Longitude  Latitude            time_date           date_time  \\\n",
       "442  1479202206  104.04809  30.69419  2016-11-15 04:30:06 2016-11-15 04:30:06   \n",
       "443  1479202209  104.04824  30.69420  2016-11-15 04:30:09 2016-11-15 04:30:09   \n",
       "444  1479202212  104.04837  30.69421  2016-11-15 04:30:12 2016-11-15 04:30:12   \n",
       "445  1479202215  104.04845  30.69422  2016-11-15 04:30:15 2016-11-15 04:30:15   \n",
       "446  1479202218  104.04850  30.69422  2016-11-15 04:30:18 2016-11-15 04:30:18   \n",
       "\n",
       "    HOUR-Min  Longitude_shifted  Latitude_shifted      Dist  time_shifted  \\\n",
       "442    04:30          104.04755          30.69414  0.051899           NaN   \n",
       "443    04:30          104.04809          30.69419  0.014377  1.479202e+09   \n",
       "444    04:30          104.04824          30.69420  0.012472  1.479202e+09   \n",
       "445    04:30          104.04837          30.69421  0.007725  1.479202e+09   \n",
       "446    04:30          104.04845          30.69422  0.004778  1.479202e+09   \n",
       "\n",
       "     time_interval  \n",
       "442            NaN  \n",
       "443            3.0  \n",
       "444            3.0  \n",
       "445            3.0  \n",
       "446            3.0  "
      ]
     },
     "execution_count": 20,
     "metadata": {},
     "output_type": "execute_result"
    }
   ],
   "source": [
    "df.head()"
   ]
  },
  {
   "cell_type": "code",
   "execution_count": 21,
   "metadata": {
    "collapsed": true
   },
   "outputs": [],
   "source": [
    "df = df[~df.time_interval.isnull()]"
   ]
  },
  {
   "cell_type": "code",
   "execution_count": 22,
   "metadata": {
    "collapsed": true
   },
   "outputs": [],
   "source": [
    "df['Dist_mile'] = df['Dist']* 0.621371"
   ]
  },
  {
   "cell_type": "code",
   "execution_count": 23,
   "metadata": {},
   "outputs": [
    {
     "data": {
      "text/html": [
       "<div>\n",
       "<style>\n",
       "    .dataframe thead tr:only-child th {\n",
       "        text-align: right;\n",
       "    }\n",
       "\n",
       "    .dataframe thead th {\n",
       "        text-align: left;\n",
       "    }\n",
       "\n",
       "    .dataframe tbody tr th {\n",
       "        vertical-align: top;\n",
       "    }\n",
       "</style>\n",
       "<table border=\"1\" class=\"dataframe\">\n",
       "  <thead>\n",
       "    <tr style=\"text-align: right;\">\n",
       "      <th></th>\n",
       "      <th>DriverID</th>\n",
       "      <th>OrderID</th>\n",
       "      <th>TimeStamp</th>\n",
       "      <th>Longitude</th>\n",
       "      <th>Latitude</th>\n",
       "      <th>time_date</th>\n",
       "      <th>date_time</th>\n",
       "      <th>HOUR-Min</th>\n",
       "      <th>Longitude_shifted</th>\n",
       "      <th>Latitude_shifted</th>\n",
       "      <th>Dist</th>\n",
       "      <th>time_shifted</th>\n",
       "      <th>time_interval</th>\n",
       "      <th>Dist_mile</th>\n",
       "      <th>speed</th>\n",
       "    </tr>\n",
       "  </thead>\n",
       "  <tbody>\n",
       "    <tr>\n",
       "      <th>443</th>\n",
       "      <td>20a72cb1d5402ec420bcb05d9b5022c3</td>\n",
       "      <td>4fe8135b0154058a6f1d3c20d0af3ac2</td>\n",
       "      <td>1479202209</td>\n",
       "      <td>104.04824</td>\n",
       "      <td>30.69420</td>\n",
       "      <td>2016-11-15 04:30:09</td>\n",
       "      <td>2016-11-15 04:30:09</td>\n",
       "      <td>04:30</td>\n",
       "      <td>104.04809</td>\n",
       "      <td>30.69419</td>\n",
       "      <td>0.014377</td>\n",
       "      <td>1.479202e+09</td>\n",
       "      <td>3.0</td>\n",
       "      <td>0.008933</td>\n",
       "      <td>10.719807</td>\n",
       "    </tr>\n",
       "    <tr>\n",
       "      <th>444</th>\n",
       "      <td>20a72cb1d5402ec420bcb05d9b5022c3</td>\n",
       "      <td>4fe8135b0154058a6f1d3c20d0af3ac2</td>\n",
       "      <td>1479202212</td>\n",
       "      <td>104.04837</td>\n",
       "      <td>30.69421</td>\n",
       "      <td>2016-11-15 04:30:12</td>\n",
       "      <td>2016-11-15 04:30:12</td>\n",
       "      <td>04:30</td>\n",
       "      <td>104.04824</td>\n",
       "      <td>30.69420</td>\n",
       "      <td>0.012472</td>\n",
       "      <td>1.479202e+09</td>\n",
       "      <td>3.0</td>\n",
       "      <td>0.007750</td>\n",
       "      <td>9.299690</td>\n",
       "    </tr>\n",
       "    <tr>\n",
       "      <th>445</th>\n",
       "      <td>20a72cb1d5402ec420bcb05d9b5022c3</td>\n",
       "      <td>4fe8135b0154058a6f1d3c20d0af3ac2</td>\n",
       "      <td>1479202215</td>\n",
       "      <td>104.04845</td>\n",
       "      <td>30.69422</td>\n",
       "      <td>2016-11-15 04:30:15</td>\n",
       "      <td>2016-11-15 04:30:15</td>\n",
       "      <td>04:30</td>\n",
       "      <td>104.04837</td>\n",
       "      <td>30.69421</td>\n",
       "      <td>0.007725</td>\n",
       "      <td>1.479202e+09</td>\n",
       "      <td>3.0</td>\n",
       "      <td>0.004800</td>\n",
       "      <td>5.760034</td>\n",
       "    </tr>\n",
       "    <tr>\n",
       "      <th>446</th>\n",
       "      <td>20a72cb1d5402ec420bcb05d9b5022c3</td>\n",
       "      <td>4fe8135b0154058a6f1d3c20d0af3ac2</td>\n",
       "      <td>1479202218</td>\n",
       "      <td>104.04850</td>\n",
       "      <td>30.69422</td>\n",
       "      <td>2016-11-15 04:30:18</td>\n",
       "      <td>2016-11-15 04:30:18</td>\n",
       "      <td>04:30</td>\n",
       "      <td>104.04845</td>\n",
       "      <td>30.69422</td>\n",
       "      <td>0.004778</td>\n",
       "      <td>1.479202e+09</td>\n",
       "      <td>3.0</td>\n",
       "      <td>0.002969</td>\n",
       "      <td>3.562577</td>\n",
       "    </tr>\n",
       "    <tr>\n",
       "      <th>447</th>\n",
       "      <td>20a72cb1d5402ec420bcb05d9b5022c3</td>\n",
       "      <td>4fe8135b0154058a6f1d3c20d0af3ac2</td>\n",
       "      <td>1479202221</td>\n",
       "      <td>104.04853</td>\n",
       "      <td>30.69422</td>\n",
       "      <td>2016-11-15 04:30:21</td>\n",
       "      <td>2016-11-15 04:30:21</td>\n",
       "      <td>04:30</td>\n",
       "      <td>104.04850</td>\n",
       "      <td>30.69422</td>\n",
       "      <td>0.002867</td>\n",
       "      <td>1.479202e+09</td>\n",
       "      <td>3.0</td>\n",
       "      <td>0.001781</td>\n",
       "      <td>2.137546</td>\n",
       "    </tr>\n",
       "  </tbody>\n",
       "</table>\n",
       "</div>"
      ],
      "text/plain": [
       "                             DriverID                           OrderID  \\\n",
       "443  20a72cb1d5402ec420bcb05d9b5022c3  4fe8135b0154058a6f1d3c20d0af3ac2   \n",
       "444  20a72cb1d5402ec420bcb05d9b5022c3  4fe8135b0154058a6f1d3c20d0af3ac2   \n",
       "445  20a72cb1d5402ec420bcb05d9b5022c3  4fe8135b0154058a6f1d3c20d0af3ac2   \n",
       "446  20a72cb1d5402ec420bcb05d9b5022c3  4fe8135b0154058a6f1d3c20d0af3ac2   \n",
       "447  20a72cb1d5402ec420bcb05d9b5022c3  4fe8135b0154058a6f1d3c20d0af3ac2   \n",
       "\n",
       "      TimeStamp  Longitude  Latitude            time_date           date_time  \\\n",
       "443  1479202209  104.04824  30.69420  2016-11-15 04:30:09 2016-11-15 04:30:09   \n",
       "444  1479202212  104.04837  30.69421  2016-11-15 04:30:12 2016-11-15 04:30:12   \n",
       "445  1479202215  104.04845  30.69422  2016-11-15 04:30:15 2016-11-15 04:30:15   \n",
       "446  1479202218  104.04850  30.69422  2016-11-15 04:30:18 2016-11-15 04:30:18   \n",
       "447  1479202221  104.04853  30.69422  2016-11-15 04:30:21 2016-11-15 04:30:21   \n",
       "\n",
       "    HOUR-Min  Longitude_shifted  Latitude_shifted      Dist  time_shifted  \\\n",
       "443    04:30          104.04809          30.69419  0.014377  1.479202e+09   \n",
       "444    04:30          104.04824          30.69420  0.012472  1.479202e+09   \n",
       "445    04:30          104.04837          30.69421  0.007725  1.479202e+09   \n",
       "446    04:30          104.04845          30.69422  0.004778  1.479202e+09   \n",
       "447    04:30          104.04850          30.69422  0.002867  1.479202e+09   \n",
       "\n",
       "     time_interval  Dist_mile      speed  \n",
       "443            3.0   0.008933  10.719807  \n",
       "444            3.0   0.007750   9.299690  \n",
       "445            3.0   0.004800   5.760034  \n",
       "446            3.0   0.002969   3.562577  \n",
       "447            3.0   0.001781   2.137546  "
      ]
     },
     "execution_count": 23,
     "metadata": {},
     "output_type": "execute_result"
    }
   ],
   "source": [
    "df['speed'] =(df['Dist_mile']/ df['time_interval'])* 3600\n",
    "df.head()"
   ]
  },
  {
   "cell_type": "code",
   "execution_count": 24,
   "metadata": {
    "collapsed": true
   },
   "outputs": [],
   "source": [
    "df = df[df['speed'] >= 0]"
   ]
  },
  {
   "cell_type": "code",
   "execution_count": 25,
   "metadata": {
    "collapsed": true
   },
   "outputs": [],
   "source": [
    "df = df[df['speed'] <= 300]"
   ]
  },
  {
   "cell_type": "code",
   "execution_count": 26,
   "metadata": {},
   "outputs": [
    {
     "data": {
      "text/html": [
       "<div>\n",
       "<style>\n",
       "    .dataframe thead tr:only-child th {\n",
       "        text-align: right;\n",
       "    }\n",
       "\n",
       "    .dataframe thead th {\n",
       "        text-align: left;\n",
       "    }\n",
       "\n",
       "    .dataframe tbody tr th {\n",
       "        vertical-align: top;\n",
       "    }\n",
       "</style>\n",
       "<table border=\"1\" class=\"dataframe\">\n",
       "  <thead>\n",
       "    <tr style=\"text-align: right;\">\n",
       "      <th></th>\n",
       "      <th>DriverID</th>\n",
       "      <th>OrderID</th>\n",
       "      <th>TimeStamp</th>\n",
       "      <th>Longitude</th>\n",
       "      <th>Latitude</th>\n",
       "      <th>time_date</th>\n",
       "      <th>date_time</th>\n",
       "      <th>HOUR-Min</th>\n",
       "      <th>Longitude_shifted</th>\n",
       "      <th>Latitude_shifted</th>\n",
       "      <th>Dist</th>\n",
       "      <th>time_shifted</th>\n",
       "      <th>time_interval</th>\n",
       "      <th>Dist_mile</th>\n",
       "      <th>speed</th>\n",
       "    </tr>\n",
       "  </thead>\n",
       "  <tbody>\n",
       "    <tr>\n",
       "      <th>5643</th>\n",
       "      <td>588987caf0e37d8bb98abe7907f0b35f</td>\n",
       "      <td>ade0e572ccffb901a490b24897ccca5c</td>\n",
       "      <td>1479211296</td>\n",
       "      <td>104.08130</td>\n",
       "      <td>30.69494</td>\n",
       "      <td>2016-11-15 07:01:36</td>\n",
       "      <td>2016-11-15 07:01:36</td>\n",
       "      <td>07:01</td>\n",
       "      <td>104.07988</td>\n",
       "      <td>30.69496</td>\n",
       "      <td>0.135708</td>\n",
       "      <td>1.479177e+09</td>\n",
       "      <td>34320.0</td>\n",
       "      <td>0.084325</td>\n",
       "      <td>0.008845</td>\n",
       "    </tr>\n",
       "    <tr>\n",
       "      <th>5644</th>\n",
       "      <td>588987caf0e37d8bb98abe7907f0b35f</td>\n",
       "      <td>ade0e572ccffb901a490b24897ccca5c</td>\n",
       "      <td>1479211299</td>\n",
       "      <td>104.08127</td>\n",
       "      <td>30.69447</td>\n",
       "      <td>2016-11-15 07:01:39</td>\n",
       "      <td>2016-11-15 07:01:39</td>\n",
       "      <td>07:01</td>\n",
       "      <td>104.08130</td>\n",
       "      <td>30.69494</td>\n",
       "      <td>0.052307</td>\n",
       "      <td>1.479211e+09</td>\n",
       "      <td>3.0</td>\n",
       "      <td>0.032502</td>\n",
       "      <td>39.002774</td>\n",
       "    </tr>\n",
       "    <tr>\n",
       "      <th>16029</th>\n",
       "      <td>4eabb7578609ce3ccaa168cae912cb99</td>\n",
       "      <td>7d9bd1dd15de8aaba1973b422f553c1e</td>\n",
       "      <td>1479210336</td>\n",
       "      <td>104.08251</td>\n",
       "      <td>30.69468</td>\n",
       "      <td>2016-11-15 06:45:36</td>\n",
       "      <td>2016-11-15 06:45:36</td>\n",
       "      <td>06:45</td>\n",
       "      <td>104.04708</td>\n",
       "      <td>30.69432</td>\n",
       "      <td>3.385808</td>\n",
       "      <td>1.479199e+09</td>\n",
       "      <td>11695.0</td>\n",
       "      <td>2.103843</td>\n",
       "      <td>0.647613</td>\n",
       "    </tr>\n",
       "    <tr>\n",
       "      <th>16030</th>\n",
       "      <td>4eabb7578609ce3ccaa168cae912cb99</td>\n",
       "      <td>7d9bd1dd15de8aaba1973b422f553c1e</td>\n",
       "      <td>1479210339</td>\n",
       "      <td>104.08209</td>\n",
       "      <td>30.69468</td>\n",
       "      <td>2016-11-15 06:45:39</td>\n",
       "      <td>2016-11-15 06:45:39</td>\n",
       "      <td>06:45</td>\n",
       "      <td>104.08251</td>\n",
       "      <td>30.69468</td>\n",
       "      <td>0.040134</td>\n",
       "      <td>1.479210e+09</td>\n",
       "      <td>3.0</td>\n",
       "      <td>0.024938</td>\n",
       "      <td>29.925507</td>\n",
       "    </tr>\n",
       "    <tr>\n",
       "      <th>16031</th>\n",
       "      <td>4eabb7578609ce3ccaa168cae912cb99</td>\n",
       "      <td>7d9bd1dd15de8aaba1973b422f553c1e</td>\n",
       "      <td>1479210342</td>\n",
       "      <td>104.08176</td>\n",
       "      <td>30.69468</td>\n",
       "      <td>2016-11-15 06:45:42</td>\n",
       "      <td>2016-11-15 06:45:42</td>\n",
       "      <td>06:45</td>\n",
       "      <td>104.08209</td>\n",
       "      <td>30.69468</td>\n",
       "      <td>0.031534</td>\n",
       "      <td>1.479210e+09</td>\n",
       "      <td>3.0</td>\n",
       "      <td>0.019594</td>\n",
       "      <td>23.512898</td>\n",
       "    </tr>\n",
       "  </tbody>\n",
       "</table>\n",
       "</div>"
      ],
      "text/plain": [
       "                               DriverID                           OrderID  \\\n",
       "5643   588987caf0e37d8bb98abe7907f0b35f  ade0e572ccffb901a490b24897ccca5c   \n",
       "5644   588987caf0e37d8bb98abe7907f0b35f  ade0e572ccffb901a490b24897ccca5c   \n",
       "16029  4eabb7578609ce3ccaa168cae912cb99  7d9bd1dd15de8aaba1973b422f553c1e   \n",
       "16030  4eabb7578609ce3ccaa168cae912cb99  7d9bd1dd15de8aaba1973b422f553c1e   \n",
       "16031  4eabb7578609ce3ccaa168cae912cb99  7d9bd1dd15de8aaba1973b422f553c1e   \n",
       "\n",
       "        TimeStamp  Longitude  Latitude            time_date  \\\n",
       "5643   1479211296  104.08130  30.69494  2016-11-15 07:01:36   \n",
       "5644   1479211299  104.08127  30.69447  2016-11-15 07:01:39   \n",
       "16029  1479210336  104.08251  30.69468  2016-11-15 06:45:36   \n",
       "16030  1479210339  104.08209  30.69468  2016-11-15 06:45:39   \n",
       "16031  1479210342  104.08176  30.69468  2016-11-15 06:45:42   \n",
       "\n",
       "                date_time HOUR-Min  Longitude_shifted  Latitude_shifted  \\\n",
       "5643  2016-11-15 07:01:36    07:01          104.07988          30.69496   \n",
       "5644  2016-11-15 07:01:39    07:01          104.08130          30.69494   \n",
       "16029 2016-11-15 06:45:36    06:45          104.04708          30.69432   \n",
       "16030 2016-11-15 06:45:39    06:45          104.08251          30.69468   \n",
       "16031 2016-11-15 06:45:42    06:45          104.08209          30.69468   \n",
       "\n",
       "           Dist  time_shifted  time_interval  Dist_mile      speed  \n",
       "5643   0.135708  1.479177e+09        34320.0   0.084325   0.008845  \n",
       "5644   0.052307  1.479211e+09            3.0   0.032502  39.002774  \n",
       "16029  3.385808  1.479199e+09        11695.0   2.103843   0.647613  \n",
       "16030  0.040134  1.479210e+09            3.0   0.024938  29.925507  \n",
       "16031  0.031534  1.479210e+09            3.0   0.019594  23.512898  "
      ]
     },
     "execution_count": 26,
     "metadata": {},
     "output_type": "execute_result"
    }
   ],
   "source": [
    "df_Morn = df[(df['HOUR-Min'] <= '09:00') & (df['HOUR-Min'] >= '06:00')]\n",
    "df_Morn.head()"
   ]
  },
  {
   "cell_type": "code",
   "execution_count": 27,
   "metadata": {},
   "outputs": [
    {
     "data": {
      "text/html": [
       "<div>\n",
       "<style>\n",
       "    .dataframe thead tr:only-child th {\n",
       "        text-align: right;\n",
       "    }\n",
       "\n",
       "    .dataframe thead th {\n",
       "        text-align: left;\n",
       "    }\n",
       "\n",
       "    .dataframe tbody tr th {\n",
       "        vertical-align: top;\n",
       "    }\n",
       "</style>\n",
       "<table border=\"1\" class=\"dataframe\">\n",
       "  <thead>\n",
       "    <tr style=\"text-align: right;\">\n",
       "      <th></th>\n",
       "      <th>DriverID</th>\n",
       "      <th>OrderID</th>\n",
       "      <th>TimeStamp</th>\n",
       "      <th>Longitude</th>\n",
       "      <th>Latitude</th>\n",
       "      <th>time_date</th>\n",
       "      <th>date_time</th>\n",
       "      <th>HOUR-Min</th>\n",
       "      <th>Longitude_shifted</th>\n",
       "      <th>Latitude_shifted</th>\n",
       "      <th>Dist</th>\n",
       "      <th>time_shifted</th>\n",
       "      <th>time_interval</th>\n",
       "      <th>Dist_mile</th>\n",
       "      <th>speed</th>\n",
       "    </tr>\n",
       "  </thead>\n",
       "  <tbody>\n",
       "    <tr>\n",
       "      <th>21164</th>\n",
       "      <td>95bf69cf71af6d728c7f094c1c06cd75</td>\n",
       "      <td>567724dd28b453a61da2fa6fada796ce</td>\n",
       "      <td>1479218649</td>\n",
       "      <td>104.08135</td>\n",
       "      <td>30.69423</td>\n",
       "      <td>2016-11-15 09:04:09</td>\n",
       "      <td>2016-11-15 09:04:09</td>\n",
       "      <td>09:04</td>\n",
       "      <td>104.04732</td>\n",
       "      <td>30.69451</td>\n",
       "      <td>3.251945</td>\n",
       "      <td>1.479180e+09</td>\n",
       "      <td>38157.0</td>\n",
       "      <td>2.020664</td>\n",
       "      <td>0.190644</td>\n",
       "    </tr>\n",
       "    <tr>\n",
       "      <th>21165</th>\n",
       "      <td>95bf69cf71af6d728c7f094c1c06cd75</td>\n",
       "      <td>567724dd28b453a61da2fa6fada796ce</td>\n",
       "      <td>1479218652</td>\n",
       "      <td>104.08137</td>\n",
       "      <td>30.69468</td>\n",
       "      <td>2016-11-15 09:04:12</td>\n",
       "      <td>2016-11-15 09:04:12</td>\n",
       "      <td>09:04</td>\n",
       "      <td>104.08135</td>\n",
       "      <td>30.69423</td>\n",
       "      <td>0.050043</td>\n",
       "      <td>1.479219e+09</td>\n",
       "      <td>3.0</td>\n",
       "      <td>0.031095</td>\n",
       "      <td>37.314179</td>\n",
       "    </tr>\n",
       "    <tr>\n",
       "      <th>26960</th>\n",
       "      <td>7ab5278016916b7db5e4a5f9bcde5eb4</td>\n",
       "      <td>334868584ec4fb1c6ce4e928acf47146</td>\n",
       "      <td>1479220585</td>\n",
       "      <td>104.05737</td>\n",
       "      <td>30.69490</td>\n",
       "      <td>2016-11-15 09:36:25</td>\n",
       "      <td>2016-11-15 09:36:25</td>\n",
       "      <td>09:36</td>\n",
       "      <td>104.04951</td>\n",
       "      <td>30.69487</td>\n",
       "      <td>0.751079</td>\n",
       "      <td>1.479217e+09</td>\n",
       "      <td>3516.0</td>\n",
       "      <td>0.466699</td>\n",
       "      <td>0.477849</td>\n",
       "    </tr>\n",
       "    <tr>\n",
       "      <th>26961</th>\n",
       "      <td>7ab5278016916b7db5e4a5f9bcde5eb4</td>\n",
       "      <td>334868584ec4fb1c6ce4e928acf47146</td>\n",
       "      <td>1479220588</td>\n",
       "      <td>104.05736</td>\n",
       "      <td>30.69462</td>\n",
       "      <td>2016-11-15 09:36:28</td>\n",
       "      <td>2016-11-15 09:36:28</td>\n",
       "      <td>09:36</td>\n",
       "      <td>104.05737</td>\n",
       "      <td>30.69490</td>\n",
       "      <td>0.031130</td>\n",
       "      <td>1.479221e+09</td>\n",
       "      <td>3.0</td>\n",
       "      <td>0.019343</td>\n",
       "      <td>23.211712</td>\n",
       "    </tr>\n",
       "    <tr>\n",
       "      <th>26962</th>\n",
       "      <td>7ab5278016916b7db5e4a5f9bcde5eb4</td>\n",
       "      <td>334868584ec4fb1c6ce4e928acf47146</td>\n",
       "      <td>1479220591</td>\n",
       "      <td>104.05733</td>\n",
       "      <td>30.69432</td>\n",
       "      <td>2016-11-15 09:36:31</td>\n",
       "      <td>2016-11-15 09:36:31</td>\n",
       "      <td>09:36</td>\n",
       "      <td>104.05736</td>\n",
       "      <td>30.69462</td>\n",
       "      <td>0.033461</td>\n",
       "      <td>1.479221e+09</td>\n",
       "      <td>3.0</td>\n",
       "      <td>0.020791</td>\n",
       "      <td>24.949707</td>\n",
       "    </tr>\n",
       "  </tbody>\n",
       "</table>\n",
       "</div>"
      ],
      "text/plain": [
       "                               DriverID                           OrderID  \\\n",
       "21164  95bf69cf71af6d728c7f094c1c06cd75  567724dd28b453a61da2fa6fada796ce   \n",
       "21165  95bf69cf71af6d728c7f094c1c06cd75  567724dd28b453a61da2fa6fada796ce   \n",
       "26960  7ab5278016916b7db5e4a5f9bcde5eb4  334868584ec4fb1c6ce4e928acf47146   \n",
       "26961  7ab5278016916b7db5e4a5f9bcde5eb4  334868584ec4fb1c6ce4e928acf47146   \n",
       "26962  7ab5278016916b7db5e4a5f9bcde5eb4  334868584ec4fb1c6ce4e928acf47146   \n",
       "\n",
       "        TimeStamp  Longitude  Latitude            time_date  \\\n",
       "21164  1479218649  104.08135  30.69423  2016-11-15 09:04:09   \n",
       "21165  1479218652  104.08137  30.69468  2016-11-15 09:04:12   \n",
       "26960  1479220585  104.05737  30.69490  2016-11-15 09:36:25   \n",
       "26961  1479220588  104.05736  30.69462  2016-11-15 09:36:28   \n",
       "26962  1479220591  104.05733  30.69432  2016-11-15 09:36:31   \n",
       "\n",
       "                date_time HOUR-Min  Longitude_shifted  Latitude_shifted  \\\n",
       "21164 2016-11-15 09:04:09    09:04          104.04732          30.69451   \n",
       "21165 2016-11-15 09:04:12    09:04          104.08135          30.69423   \n",
       "26960 2016-11-15 09:36:25    09:36          104.04951          30.69487   \n",
       "26961 2016-11-15 09:36:28    09:36          104.05737          30.69490   \n",
       "26962 2016-11-15 09:36:31    09:36          104.05736          30.69462   \n",
       "\n",
       "           Dist  time_shifted  time_interval  Dist_mile      speed  \n",
       "21164  3.251945  1.479180e+09        38157.0   2.020664   0.190644  \n",
       "21165  0.050043  1.479219e+09            3.0   0.031095  37.314179  \n",
       "26960  0.751079  1.479217e+09         3516.0   0.466699   0.477849  \n",
       "26961  0.031130  1.479221e+09            3.0   0.019343  23.211712  \n",
       "26962  0.033461  1.479221e+09            3.0   0.020791  24.949707  "
      ]
     },
     "execution_count": 27,
     "metadata": {},
     "output_type": "execute_result"
    }
   ],
   "source": [
    "df_Mid = df[(df['HOUR-Min'] <= '15:00') & (df['HOUR-Min'] >= '09:00')]\n",
    "df_Mid.head()"
   ]
  },
  {
   "cell_type": "code",
   "execution_count": 28,
   "metadata": {
    "collapsed": true
   },
   "outputs": [],
   "source": [
    "df_Even = df[(df['HOUR-Min'] <= '18:00') & (df['HOUR-Min'] >= '15:00')]\n",
    "df_night = df[(df['HOUR-Min'] <= '22:00') & (df['HOUR-Min'] >= '18:00')]"
   ]
  },
  {
   "cell_type": "code",
   "execution_count": 29,
   "metadata": {
    "collapsed": true
   },
   "outputs": [],
   "source": [
    "df_agg_nov_Morn = df_Morn.groupby([df_Morn['date_time'].dt.floor('5Min')]).agg(['mean'])"
   ]
  },
  {
   "cell_type": "code",
   "execution_count": 30,
   "metadata": {},
   "outputs": [],
   "source": [
    "df_agg_nov_Morn['TT_min'] = ((2.14)/(df_agg_nov_Morn['speed']))*60"
   ]
  },
  {
   "cell_type": "code",
   "execution_count": 31,
   "metadata": {},
   "outputs": [
    {
     "data": {
      "text/html": [
       "<div>\n",
       "<style>\n",
       "    .dataframe thead tr:only-child th {\n",
       "        text-align: right;\n",
       "    }\n",
       "\n",
       "    .dataframe thead th {\n",
       "        text-align: left;\n",
       "    }\n",
       "\n",
       "    .dataframe tbody tr th {\n",
       "        vertical-align: top;\n",
       "    }\n",
       "</style>\n",
       "<table border=\"1\" class=\"dataframe\">\n",
       "  <thead>\n",
       "    <tr>\n",
       "      <th></th>\n",
       "      <th>TimeStamp</th>\n",
       "      <th>Longitude</th>\n",
       "      <th>Latitude</th>\n",
       "      <th>Longitude_shifted</th>\n",
       "      <th>Latitude_shifted</th>\n",
       "      <th>Dist</th>\n",
       "      <th>time_shifted</th>\n",
       "      <th>time_interval</th>\n",
       "      <th>Dist_mile</th>\n",
       "      <th>speed</th>\n",
       "      <th>TT_min</th>\n",
       "    </tr>\n",
       "    <tr>\n",
       "      <th></th>\n",
       "      <th>mean</th>\n",
       "      <th>mean</th>\n",
       "      <th>mean</th>\n",
       "      <th>mean</th>\n",
       "      <th>mean</th>\n",
       "      <th>mean</th>\n",
       "      <th>mean</th>\n",
       "      <th>mean</th>\n",
       "      <th>mean</th>\n",
       "      <th>mean</th>\n",
       "      <th></th>\n",
       "    </tr>\n",
       "    <tr>\n",
       "      <th>date_time</th>\n",
       "      <th></th>\n",
       "      <th></th>\n",
       "      <th></th>\n",
       "      <th></th>\n",
       "      <th></th>\n",
       "      <th></th>\n",
       "      <th></th>\n",
       "      <th></th>\n",
       "      <th></th>\n",
       "      <th></th>\n",
       "      <th></th>\n",
       "    </tr>\n",
       "  </thead>\n",
       "  <tbody>\n",
       "    <tr>\n",
       "      <th>2016-11-15 06:00:00</th>\n",
       "      <td>1.479208e+09</td>\n",
       "      <td>104.065525</td>\n",
       "      <td>30.694585</td>\n",
       "      <td>104.065567</td>\n",
       "      <td>30.694584</td>\n",
       "      <td>0.109587</td>\n",
       "      <td>1.479207e+09</td>\n",
       "      <td>991.080776</td>\n",
       "      <td>0.068094</td>\n",
       "      <td>19.582137</td>\n",
       "      <td>6.556996</td>\n",
       "    </tr>\n",
       "    <tr>\n",
       "      <th>2016-11-15 06:05:00</th>\n",
       "      <td>1.479208e+09</td>\n",
       "      <td>104.064017</td>\n",
       "      <td>30.694577</td>\n",
       "      <td>104.064024</td>\n",
       "      <td>30.694578</td>\n",
       "      <td>0.095562</td>\n",
       "      <td>1.479207e+09</td>\n",
       "      <td>705.455507</td>\n",
       "      <td>0.059379</td>\n",
       "      <td>18.825560</td>\n",
       "      <td>6.820514</td>\n",
       "    </tr>\n",
       "    <tr>\n",
       "      <th>2016-11-15 06:10:00</th>\n",
       "      <td>1.479208e+09</td>\n",
       "      <td>104.065382</td>\n",
       "      <td>30.694576</td>\n",
       "      <td>104.065447</td>\n",
       "      <td>30.694575</td>\n",
       "      <td>0.085292</td>\n",
       "      <td>1.479208e+09</td>\n",
       "      <td>662.850189</td>\n",
       "      <td>0.052998</td>\n",
       "      <td>15.758155</td>\n",
       "      <td>8.148162</td>\n",
       "    </tr>\n",
       "    <tr>\n",
       "      <th>2016-11-15 06:15:00</th>\n",
       "      <td>1.479209e+09</td>\n",
       "      <td>104.064777</td>\n",
       "      <td>30.694579</td>\n",
       "      <td>104.064782</td>\n",
       "      <td>30.694578</td>\n",
       "      <td>0.078001</td>\n",
       "      <td>1.479208e+09</td>\n",
       "      <td>498.532503</td>\n",
       "      <td>0.048467</td>\n",
       "      <td>17.014630</td>\n",
       "      <td>7.546447</td>\n",
       "    </tr>\n",
       "    <tr>\n",
       "      <th>2016-11-15 06:20:00</th>\n",
       "      <td>1.479209e+09</td>\n",
       "      <td>104.066421</td>\n",
       "      <td>30.694600</td>\n",
       "      <td>104.066388</td>\n",
       "      <td>30.694600</td>\n",
       "      <td>0.079103</td>\n",
       "      <td>1.479209e+09</td>\n",
       "      <td>457.343868</td>\n",
       "      <td>0.049153</td>\n",
       "      <td>16.790488</td>\n",
       "      <td>7.647187</td>\n",
       "    </tr>\n",
       "  </tbody>\n",
       "</table>\n",
       "</div>"
      ],
      "text/plain": [
       "                        TimeStamp   Longitude   Latitude Longitude_shifted  \\\n",
       "                             mean        mean       mean              mean   \n",
       "date_time                                                                    \n",
       "2016-11-15 06:00:00  1.479208e+09  104.065525  30.694585        104.065567   \n",
       "2016-11-15 06:05:00  1.479208e+09  104.064017  30.694577        104.064024   \n",
       "2016-11-15 06:10:00  1.479208e+09  104.065382  30.694576        104.065447   \n",
       "2016-11-15 06:15:00  1.479209e+09  104.064777  30.694579        104.064782   \n",
       "2016-11-15 06:20:00  1.479209e+09  104.066421  30.694600        104.066388   \n",
       "\n",
       "                    Latitude_shifted      Dist  time_shifted time_interval  \\\n",
       "                                mean      mean          mean          mean   \n",
       "date_time                                                                    \n",
       "2016-11-15 06:00:00        30.694584  0.109587  1.479207e+09    991.080776   \n",
       "2016-11-15 06:05:00        30.694578  0.095562  1.479207e+09    705.455507   \n",
       "2016-11-15 06:10:00        30.694575  0.085292  1.479208e+09    662.850189   \n",
       "2016-11-15 06:15:00        30.694578  0.078001  1.479208e+09    498.532503   \n",
       "2016-11-15 06:20:00        30.694600  0.079103  1.479209e+09    457.343868   \n",
       "\n",
       "                    Dist_mile      speed    TT_min  \n",
       "                         mean       mean            \n",
       "date_time                                           \n",
       "2016-11-15 06:00:00  0.068094  19.582137  6.556996  \n",
       "2016-11-15 06:05:00  0.059379  18.825560  6.820514  \n",
       "2016-11-15 06:10:00  0.052998  15.758155  8.148162  \n",
       "2016-11-15 06:15:00  0.048467  17.014630  7.546447  \n",
       "2016-11-15 06:20:00  0.049153  16.790488  7.647187  "
      ]
     },
     "execution_count": 31,
     "metadata": {},
     "output_type": "execute_result"
    }
   ],
   "source": [
    "df_agg_nov_Morn.head()"
   ]
  },
  {
   "cell_type": "code",
   "execution_count": 32,
   "metadata": {},
   "outputs": [],
   "source": [
    "df_agg_nov_Morn.to_csv('Nov 15 morning am.csv') "
   ]
  },
  {
   "cell_type": "code",
   "execution_count": 33,
   "metadata": {
    "collapsed": true
   },
   "outputs": [],
   "source": [
    "df_agg_nov_mid = df_Mid.groupby([df_Mid['date_time'].dt.floor('5Min')]).agg(['mean'])\n"
   ]
  },
  {
   "cell_type": "code",
   "execution_count": 34,
   "metadata": {
    "collapsed": true
   },
   "outputs": [],
   "source": [
    "df_agg_nov_mid['TT_min'] = ((2.14)/(df_agg_nov_mid['speed']))*60"
   ]
  },
  {
   "cell_type": "code",
   "execution_count": 35,
   "metadata": {
    "collapsed": true
   },
   "outputs": [],
   "source": [
    "df_agg_nov_mid.to_csv('Nov 15 mid pm.csv') "
   ]
  },
  {
   "cell_type": "code",
   "execution_count": 36,
   "metadata": {
    "collapsed": true
   },
   "outputs": [],
   "source": [
    "df_agg_nov_even = df_Even.groupby([df_Even['date_time'].dt.floor('5Min')]).agg(['mean'])"
   ]
  },
  {
   "cell_type": "code",
   "execution_count": 37,
   "metadata": {
    "collapsed": true
   },
   "outputs": [],
   "source": [
    "df_agg_nov_even['TT_min'] = ((2.14)/(df_agg_nov_even['speed']))*60"
   ]
  },
  {
   "cell_type": "code",
   "execution_count": 38,
   "metadata": {
    "collapsed": true
   },
   "outputs": [],
   "source": [
    "df_agg_nov_even.to_csv('Nov 15 evening pm.csv') "
   ]
  },
  {
   "cell_type": "code",
   "execution_count": 39,
   "metadata": {
    "collapsed": true
   },
   "outputs": [],
   "source": [
    "df_agg_nov_night = df_night.groupby([df_night['date_time'].dt.floor('5Min')]).agg(['mean'])\n",
    "df_agg_nov_night['TT_min'] = ((2.14)/(df_agg_nov_night['speed']))*60"
   ]
  },
  {
   "cell_type": "code",
   "execution_count": 40,
   "metadata": {
    "collapsed": true
   },
   "outputs": [],
   "source": [
    "df_agg_nov_night.to_csv('Nov 15 night till 10 pm.csv') "
   ]
  },
  {
   "cell_type": "code",
   "execution_count": 41,
   "metadata": {},
   "outputs": [
    {
     "data": {
      "text/html": [
       "<div>\n",
       "<style>\n",
       "    .dataframe thead tr:only-child th {\n",
       "        text-align: right;\n",
       "    }\n",
       "\n",
       "    .dataframe thead th {\n",
       "        text-align: left;\n",
       "    }\n",
       "\n",
       "    .dataframe tbody tr th {\n",
       "        vertical-align: top;\n",
       "    }\n",
       "</style>\n",
       "<table border=\"1\" class=\"dataframe\">\n",
       "  <thead>\n",
       "    <tr>\n",
       "      <th></th>\n",
       "      <th>TimeStamp</th>\n",
       "      <th>Longitude</th>\n",
       "      <th>Latitude</th>\n",
       "      <th>Longitude_shifted</th>\n",
       "      <th>Latitude_shifted</th>\n",
       "      <th>Dist</th>\n",
       "      <th>time_shifted</th>\n",
       "      <th>time_interval</th>\n",
       "      <th>Dist_mile</th>\n",
       "      <th>speed</th>\n",
       "      <th>TT_min</th>\n",
       "    </tr>\n",
       "    <tr>\n",
       "      <th></th>\n",
       "      <th>mean</th>\n",
       "      <th>mean</th>\n",
       "      <th>mean</th>\n",
       "      <th>mean</th>\n",
       "      <th>mean</th>\n",
       "      <th>mean</th>\n",
       "      <th>mean</th>\n",
       "      <th>mean</th>\n",
       "      <th>mean</th>\n",
       "      <th>mean</th>\n",
       "      <th></th>\n",
       "    </tr>\n",
       "    <tr>\n",
       "      <th>date_time</th>\n",
       "      <th></th>\n",
       "      <th></th>\n",
       "      <th></th>\n",
       "      <th></th>\n",
       "      <th></th>\n",
       "      <th></th>\n",
       "      <th></th>\n",
       "      <th></th>\n",
       "      <th></th>\n",
       "      <th></th>\n",
       "      <th></th>\n",
       "    </tr>\n",
       "  </thead>\n",
       "  <tbody>\n",
       "    <tr>\n",
       "      <th>2016-11-14 18:00:00</th>\n",
       "      <td>1.479165e+09</td>\n",
       "      <td>104.063133</td>\n",
       "      <td>30.694561</td>\n",
       "      <td>104.063098</td>\n",
       "      <td>30.694561</td>\n",
       "      <td>0.031905</td>\n",
       "      <td>1.479165e+09</td>\n",
       "      <td>37.056395</td>\n",
       "      <td>0.019825</td>\n",
       "      <td>17.629580</td>\n",
       "      <td>7.283214</td>\n",
       "    </tr>\n",
       "    <tr>\n",
       "      <th>2016-11-14 18:05:00</th>\n",
       "      <td>1.479165e+09</td>\n",
       "      <td>104.066217</td>\n",
       "      <td>30.694595</td>\n",
       "      <td>104.066105</td>\n",
       "      <td>30.694596</td>\n",
       "      <td>0.028371</td>\n",
       "      <td>1.479165e+09</td>\n",
       "      <td>41.612429</td>\n",
       "      <td>0.017629</td>\n",
       "      <td>15.897802</td>\n",
       "      <td>8.076588</td>\n",
       "    </tr>\n",
       "    <tr>\n",
       "      <th>2016-11-14 18:10:00</th>\n",
       "      <td>1.479165e+09</td>\n",
       "      <td>104.067543</td>\n",
       "      <td>30.694586</td>\n",
       "      <td>104.067489</td>\n",
       "      <td>30.694585</td>\n",
       "      <td>0.034375</td>\n",
       "      <td>1.479165e+09</td>\n",
       "      <td>50.088034</td>\n",
       "      <td>0.021359</td>\n",
       "      <td>18.279565</td>\n",
       "      <td>7.024237</td>\n",
       "    </tr>\n",
       "    <tr>\n",
       "      <th>2016-11-14 18:15:00</th>\n",
       "      <td>1.479165e+09</td>\n",
       "      <td>104.065587</td>\n",
       "      <td>30.694608</td>\n",
       "      <td>104.065602</td>\n",
       "      <td>30.694610</td>\n",
       "      <td>0.030112</td>\n",
       "      <td>1.479165e+09</td>\n",
       "      <td>21.627488</td>\n",
       "      <td>0.018711</td>\n",
       "      <td>18.336084</td>\n",
       "      <td>7.002586</td>\n",
       "    </tr>\n",
       "    <tr>\n",
       "      <th>2016-11-14 18:20:00</th>\n",
       "      <td>1.479166e+09</td>\n",
       "      <td>104.065525</td>\n",
       "      <td>30.694589</td>\n",
       "      <td>104.065471</td>\n",
       "      <td>30.694591</td>\n",
       "      <td>0.034411</td>\n",
       "      <td>1.479166e+09</td>\n",
       "      <td>39.225086</td>\n",
       "      <td>0.021382</td>\n",
       "      <td>20.949965</td>\n",
       "      <td>6.128889</td>\n",
       "    </tr>\n",
       "  </tbody>\n",
       "</table>\n",
       "</div>"
      ],
      "text/plain": [
       "                        TimeStamp   Longitude   Latitude Longitude_shifted  \\\n",
       "                             mean        mean       mean              mean   \n",
       "date_time                                                                    \n",
       "2016-11-14 18:00:00  1.479165e+09  104.063133  30.694561        104.063098   \n",
       "2016-11-14 18:05:00  1.479165e+09  104.066217  30.694595        104.066105   \n",
       "2016-11-14 18:10:00  1.479165e+09  104.067543  30.694586        104.067489   \n",
       "2016-11-14 18:15:00  1.479165e+09  104.065587  30.694608        104.065602   \n",
       "2016-11-14 18:20:00  1.479166e+09  104.065525  30.694589        104.065471   \n",
       "\n",
       "                    Latitude_shifted      Dist  time_shifted time_interval  \\\n",
       "                                mean      mean          mean          mean   \n",
       "date_time                                                                    \n",
       "2016-11-14 18:00:00        30.694561  0.031905  1.479165e+09     37.056395   \n",
       "2016-11-14 18:05:00        30.694596  0.028371  1.479165e+09     41.612429   \n",
       "2016-11-14 18:10:00        30.694585  0.034375  1.479165e+09     50.088034   \n",
       "2016-11-14 18:15:00        30.694610  0.030112  1.479165e+09     21.627488   \n",
       "2016-11-14 18:20:00        30.694591  0.034411  1.479166e+09     39.225086   \n",
       "\n",
       "                    Dist_mile      speed    TT_min  \n",
       "                         mean       mean            \n",
       "date_time                                           \n",
       "2016-11-14 18:00:00  0.019825  17.629580  7.283214  \n",
       "2016-11-14 18:05:00  0.017629  15.897802  8.076588  \n",
       "2016-11-14 18:10:00  0.021359  18.279565  7.024237  \n",
       "2016-11-14 18:15:00  0.018711  18.336084  7.002586  \n",
       "2016-11-14 18:20:00  0.021382  20.949965  6.128889  "
      ]
     },
     "execution_count": 41,
     "metadata": {},
     "output_type": "execute_result"
    }
   ],
   "source": [
    "df_agg_nov_night.head()"
   ]
  },
  {
   "cell_type": "code",
   "execution_count": null,
   "metadata": {
    "collapsed": true
   },
   "outputs": [],
   "source": [
    "df['Dist_mile'] = df['Dist']* 0.621371"
   ]
  },
  {
   "cell_type": "code",
   "execution_count": null,
   "metadata": {},
   "outputs": [],
   "source": [
    "df.head()"
   ]
  },
  {
   "cell_type": "code",
   "execution_count": null,
   "metadata": {},
   "outputs": [],
   "source": [
    "df['speed'] = df['Dist_mile']* 1200\n",
    "df.head()"
   ]
  },
  {
   "cell_type": "code",
   "execution_count": null,
   "metadata": {
    "collapsed": true
   },
   "outputs": [],
   "source": [
    "#morning peak:\n",
    "df_Morn = df[(df['HOUR-Min'] <= '09:00') & (df['HOUR-Min'] >= '06:00')]\n",
    "#df_Mid = df[(df['HOUR-Min'] <= '15:00') & (df['HOUR-Min'] >= '09:00')]\n",
    "#df_Even = df[(df['HOUR-Min'] <= '18:00') & (df['HOUR-Min'] >= '15:00')]\n",
    "#df_night = df[(df['HOUR-Min'] <= '12:00') & (df['HOUR-Min'] >= '18:00')]"
   ]
  },
  {
   "cell_type": "code",
   "execution_count": null,
   "metadata": {
    "collapsed": true
   },
   "outputs": [],
   "source": [
    "df_agg_nov2['TT_min'] = ((2.14)/(df_agg_nov2['speed']))*60"
   ]
  },
  {
   "cell_type": "code",
   "execution_count": null,
   "metadata": {},
   "outputs": [],
   "source": [
    "df_agg_nov2.head()"
   ]
  },
  {
   "cell_type": "code",
   "execution_count": null,
   "metadata": {
    "collapsed": true
   },
   "outputs": [],
   "source": [
    "df_Morn = df[(df['HOUR-Min'] <= '09:00') & (df['HOUR-Min'] >= '06:00')]"
   ]
  },
  {
   "cell_type": "code",
   "execution_count": null,
   "metadata": {
    "collapsed": true
   },
   "outputs": [],
   "source": [
    "df_Morn.to_csv('Nov 2 morning am')"
   ]
  },
  {
   "cell_type": "code",
   "execution_count": null,
   "metadata": {
    "collapsed": true
   },
   "outputs": [],
   "source": []
  }
 ],
 "metadata": {
  "kernelspec": {
   "display_name": "Python 3",
   "language": "python",
   "name": "python3"
  },
  "language_info": {
   "codemirror_mode": {
    "name": "ipython",
    "version": 3
   },
   "file_extension": ".py",
   "mimetype": "text/x-python",
   "name": "python",
   "nbconvert_exporter": "python",
   "pygments_lexer": "ipython3",
   "version": "3.6.3"
  }
 },
 "nbformat": 4,
 "nbformat_minor": 2
}
