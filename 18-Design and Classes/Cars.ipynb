{
 "cells": [
  {
   "cell_type": "code",
   "execution_count": 98,
   "metadata": {},
   "outputs": [],
   "source": [
    "import datetime \n",
    "\n",
    "# Define the class\n",
    "class Car(object):\n",
    "    \"\"\"\n",
    "    represents color, x,y and direction.     \n",
    "    \"\"\"\n",
    "    def __init__(car, color, location, dirtn):\n",
    "       \n",
    "            car.color = color\n",
    "            car.location = location\n",
    "            car.y = location[1]\n",
    "            car.x = location[0]\n",
    "            car.dirtn = dirtn\n",
    "        \n",
    "    def go(car,l):\n",
    "        if car.dirtn == 'N':\n",
    "            car.location.y =car.location.y+l\n",
    "            return print(car)\n",
    "        elif car.dirtn == 'S':\n",
    "            car.location.y =car.location.y-l\n",
    "            return print(car)\n",
    "        elif car.dirtn == 'E':\n",
    "            car.location.x =car.location.x+l\n",
    "            return print(car)\n",
    "        elif car.dirtn == 'W':\n",
    "            car.location.x =car.location.x-l\n",
    "            return print(car)\n",
    "        else:\n",
    "            return\n",
    "    \n",
    "    def turn_right(car):\n",
    "        if car.dirtn =='N':\n",
    "            car.dirtn = 'E'\n",
    "        elif car.dirtn =='S':\n",
    "            car.dirtn = 'W' \n",
    "        elif car.dirtn =='E':\n",
    "            car.dirtn = 'S'\n",
    "        elif car.dirtn =='W':\n",
    "            car.dirtn = 'N'\n",
    "        \n",
    "        else:\n",
    "            print ('Null')\n",
    "    \n",
    "    def turn_left(car):\n",
    "        if car.dirtn =='N':\n",
    "            car.dirtn = 'W'\n",
    "        elif car.dirtn =='S':\n",
    "            car.dirtn ='E' \n",
    "        elif car.dirtn =='E':\n",
    "            car.dirtn = 'N'\n",
    "        elif car.dirtn =='W':\n",
    "            car.dirtn = 'S'\n",
    "        \n",
    "        else:\n",
    "            print ('Null')"
   ]
  },
  {
   "cell_type": "code",
   "execution_count": 164,
   "metadata": {
    "collapsed": true
   },
   "outputs": [],
   "source": [
    "def print_cars(car):\n",
    "    print(str(car.color), 'the location of car is', str(car.location), 'and directed towards', str(car.dirtn))"
   ]
  },
  {
   "cell_type": "code",
   "execution_count": 136,
   "metadata": {},
   "outputs": [],
   "source": [
    "#yellow  car:\n",
    "car1 = Car('yellow', [0,2], 'E')"
   ]
  },
  {
   "cell_type": "code",
   "execution_count": 137,
   "metadata": {},
   "outputs": [
    {
     "name": "stdout",
     "output_type": "stream",
     "text": [
      "<bound method Car.go of <__main__.Car object at 0x000002C2E8656400>>\n"
     ]
    }
   ],
   "source": [
    "print (car1.go)"
   ]
  },
  {
   "cell_type": "code",
   "execution_count": 138,
   "metadata": {},
   "outputs": [
    {
     "name": "stdout",
     "output_type": "stream",
     "text": [
      "E\n"
     ]
    }
   ],
   "source": [
    "print(car1.dirtn)"
   ]
  },
  {
   "cell_type": "code",
   "execution_count": 139,
   "metadata": {},
   "outputs": [
    {
     "name": "stdout",
     "output_type": "stream",
     "text": [
      "N\n"
     ]
    }
   ],
   "source": [
    "turn_left(car1)\n",
    "print(car1.dirtn)"
   ]
  },
  {
   "cell_type": "code",
   "execution_count": 156,
   "metadata": {
    "collapsed": true
   },
   "outputs": [],
   "source": [
    "#green car\n",
    "car2 = Car('green', [0,0], 'N')"
   ]
  },
  {
   "cell_type": "code",
   "execution_count": 157,
   "metadata": {},
   "outputs": [
    {
     "name": "stdout",
     "output_type": "stream",
     "text": [
      "N\n"
     ]
    }
   ],
   "source": [
    "print(car2.dirtn)"
   ]
  },
  {
   "cell_type": "code",
   "execution_count": 158,
   "metadata": {},
   "outputs": [
    {
     "name": "stdout",
     "output_type": "stream",
     "text": [
      "W\n"
     ]
    }
   ],
   "source": [
    "turn_left(car2)\n",
    "print(car2.dirtn)"
   ]
  },
  {
   "cell_type": "code",
   "execution_count": 159,
   "metadata": {
    "collapsed": true
   },
   "outputs": [],
   "source": [
    "car2 = Car('green', [1,0], car2.dirtn)"
   ]
  },
  {
   "cell_type": "code",
   "execution_count": 160,
   "metadata": {},
   "outputs": [
    {
     "name": "stdout",
     "output_type": "stream",
     "text": [
      "N\n"
     ]
    }
   ],
   "source": [
    "turn_right(car2)\n",
    "print(car2.dirtn)"
   ]
  },
  {
   "cell_type": "code",
   "execution_count": 162,
   "metadata": {},
   "outputs": [
    {
     "data": {
      "text/plain": [
       "<__main__.Car at 0x2c2eb28d860>"
      ]
     },
     "execution_count": 162,
     "metadata": {},
     "output_type": "execute_result"
    }
   ],
   "source": [
    "car2 = Car('green', [0,2], car2.dirtn)\n",
    "car2"
   ]
  },
  {
   "cell_type": "code",
   "execution_count": 165,
   "metadata": {},
   "outputs": [
    {
     "name": "stdout",
     "output_type": "stream",
     "text": [
      "yellow the location of car is [0, 2] and directed towards N\n"
     ]
    }
   ],
   "source": [
    "print_cars(car1)"
   ]
  },
  {
   "cell_type": "code",
   "execution_count": 166,
   "metadata": {},
   "outputs": [
    {
     "name": "stdout",
     "output_type": "stream",
     "text": [
      "green the location of car is [0, 2] and directed towards N\n"
     ]
    }
   ],
   "source": [
    "print_cars(car2)"
   ]
  },
  {
   "cell_type": "code",
   "execution_count": null,
   "metadata": {
    "collapsed": true
   },
   "outputs": [],
   "source": []
  }
 ],
 "metadata": {
  "kernelspec": {
   "display_name": "Python 3",
   "language": "python",
   "name": "python3"
  },
  "language_info": {
   "codemirror_mode": {
    "name": "ipython",
    "version": 3
   },
   "file_extension": ".py",
   "mimetype": "text/x-python",
   "name": "python",
   "nbconvert_exporter": "python",
   "pygments_lexer": "ipython3",
   "version": "3.6.3"
  }
 },
 "nbformat": 4,
 "nbformat_minor": 2
}
